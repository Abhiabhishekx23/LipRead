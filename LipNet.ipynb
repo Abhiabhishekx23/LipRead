{
  "cells": [
    {
      "cell_type": "markdown",
      "metadata": {
        "colab_type": "text",
        "id": "view-in-github"
      },
      "source": [
        "<a href=\"https://colab.research.google.com/github/sphynxlee/LipNet/blob/main/LipNet.ipynb\" target=\"_parent\"><img src=\"https://colab.research.google.com/assets/colab-badge.svg\" alt=\"Open In Colab\"/></a>"
      ]
    },
    {
      "cell_type": "markdown",
      "id": "a3573a47-3689-4668-b62f-5c8451b2b4e9",
      "metadata": {
        "id": "a3573a47-3689-4668-b62f-5c8451b2b4e9",
        "tags": []
      },
      "source": [
        "# 0. Install and Import Dependencies"
      ]
    },
    {
      "cell_type": "code",
      "execution_count": 1,
      "id": "ddfbccbe-41ae-4c23-98b1-a13868e2b499",
      "metadata": {
        "colab": {
          "base_uri": "https://localhost:8080/"
        },
        "id": "ddfbccbe-41ae-4c23-98b1-a13868e2b499",
        "outputId": "964dae10-91f7-4769-b15c-4a00ca9db312",
        "scrolled": true,
        "tags": []
      },
      "outputs": [
        {
          "name": "stdout",
          "output_type": "stream",
          "text": [
            "Package                           Version\n",
            "--------------------------------- ------------\n",
            "absl-py                           2.1.0\n",
            "aiobotocore                       2.7.0\n",
            "aiohttp                           3.9.3\n",
            "aioitertools                      0.7.1\n",
            "aiosignal                         1.2.0\n",
            "alabaster                         0.7.12\n",
            "altair                            5.0.1\n",
            "anaconda-anon-usage               0.4.3\n",
            "anaconda-catalogs                 0.2.0\n",
            "anaconda-client                   1.12.3\n",
            "anaconda-cloud-auth               0.1.4\n",
            "anaconda-navigator                2.5.4\n",
            "anaconda-project                  0.11.1\n",
            "anyio                             4.2.0\n",
            "appdirs                           1.4.4\n",
            "archspec                          0.2.3\n",
            "argon2-cffi                       21.3.0\n",
            "argon2-cffi-bindings              21.2.0\n",
            "arrow                             1.2.3\n",
            "astroid                           2.14.2\n",
            "astropy                           5.3.4\n",
            "asttokens                         2.0.5\n",
            "astunparse                        1.6.3\n",
            "async-lru                         2.0.4\n",
            "atomicwrites                      1.4.0\n",
            "attrs                             23.1.0\n",
            "Automat                           20.2.0\n",
            "autopep8                          1.6.0\n",
            "Babel                             2.11.0\n",
            "backports.functools-lru-cache     1.6.4\n",
            "backports.tempfile                1.0\n",
            "backports.weakref                 1.0.post1\n",
            "bcrypt                            3.2.0\n",
            "beautifulsoup4                    4.12.2\n",
            "binaryornot                       0.4.4\n",
            "black                             23.11.0\n",
            "bleach                            4.1.0\n",
            "blinker                           1.6.2\n",
            "bokeh                             3.3.4\n",
            "boltons                           23.0.0\n",
            "botocore                          1.31.64\n",
            "Bottleneck                        1.3.7\n",
            "Brotli                            1.0.9\n",
            "cachetools                        4.2.2\n",
            "certifi                           2024.2.2\n",
            "cffi                              1.16.0\n",
            "chardet                           4.0.0\n",
            "charset-normalizer                2.0.4\n",
            "click                             8.1.7\n",
            "cloudpickle                       2.2.1\n",
            "clyent                            1.2.2\n",
            "colorama                          0.4.6\n",
            "colorcet                          3.0.1\n",
            "comm                              0.1.2\n",
            "conda                             24.3.0\n",
            "conda-build                       24.1.2\n",
            "conda-content-trust               0.2.0\n",
            "conda_index                       0.4.0\n",
            "conda-libmamba-solver             24.1.0\n",
            "conda-pack                        0.6.0\n",
            "conda-package-handling            2.2.0\n",
            "conda_package_streaming           0.9.0\n",
            "conda-repo-cli                    1.0.75\n",
            "conda-token                       0.4.0\n",
            "conda-verify                      3.4.2\n",
            "constantly                        23.10.4\n",
            "contourpy                         1.2.0\n",
            "cookiecutter                      2.5.0\n",
            "cryptography                      42.0.2\n",
            "cssselect                         1.2.0\n",
            "cycler                            0.11.0\n",
            "cytoolz                           0.12.2\n",
            "dask                              2023.11.0\n",
            "datashader                        0.16.0\n",
            "debugpy                           1.6.7\n",
            "decorator                         5.1.1\n",
            "defusedxml                        0.7.1\n",
            "diff-match-patch                  20200713\n",
            "dill                              0.3.7\n",
            "distributed                       2023.11.0\n",
            "distro                            1.8.0\n",
            "docstring-to-markdown             0.11\n",
            "docutils                          0.18.1\n",
            "entrypoints                       0.4\n",
            "et-xmlfile                        1.1.0\n",
            "executing                         0.8.3\n",
            "fastjsonschema                    2.16.2\n",
            "filelock                          3.13.1\n",
            "flake8                            6.0.0\n",
            "Flask                             2.2.5\n",
            "flatbuffers                       24.3.25\n",
            "fonttools                         4.25.0\n",
            "frozenlist                        1.4.0\n",
            "fsspec                            2023.10.0\n",
            "future                            0.18.3\n",
            "gast                              0.5.4\n",
            "gdown                             5.1.0\n",
            "gensim                            4.3.0\n",
            "gitdb                             4.0.7\n",
            "GitPython                         3.1.37\n",
            "gmpy2                             2.1.2\n",
            "google-pasta                      0.2.0\n",
            "greenlet                          3.0.1\n",
            "grpcio                            1.62.1\n",
            "h5py                              3.11.0\n",
            "HeapDict                          1.0.1\n",
            "holoviews                         1.18.3\n",
            "hvplot                            0.9.2\n",
            "hyperlink                         21.0.0\n",
            "idna                              3.4\n",
            "imagecodecs                       2023.1.23\n",
            "imageio                           2.33.1\n",
            "imagesize                         1.4.1\n",
            "imbalanced-learn                  0.11.0\n",
            "importlib-metadata                7.0.1\n",
            "incremental                       22.10.0\n",
            "inflection                        0.5.1\n",
            "iniconfig                         1.1.1\n",
            "intake                            0.6.8\n",
            "intervaltree                      3.1.0\n",
            "ipykernel                         6.28.0\n",
            "ipython                           8.20.0\n",
            "ipython-genutils                  0.2.0\n",
            "ipywidgets                        7.6.5\n",
            "isort                             5.9.3\n",
            "itemadapter                       0.3.0\n",
            "itemloaders                       1.1.0\n",
            "itsdangerous                      2.0.1\n",
            "jaraco.classes                    3.2.1\n",
            "jedi                              0.18.1\n",
            "jellyfish                         1.0.1\n",
            "Jinja2                            3.1.3\n",
            "jmespath                          1.0.1\n",
            "joblib                            1.2.0\n",
            "json5                             0.9.6\n",
            "jsonpatch                         1.32\n",
            "jsonpointer                       2.1\n",
            "jsonschema                        4.19.2\n",
            "jsonschema-specifications         2023.7.1\n",
            "jupyter                           1.0.0\n",
            "jupyter_client                    8.6.0\n",
            "jupyter-console                   6.6.3\n",
            "jupyter_core                      5.5.0\n",
            "jupyter-events                    0.8.0\n",
            "jupyter-lsp                       2.2.0\n",
            "jupyter_server                    2.10.0\n",
            "jupyter_server_terminals          0.4.4\n",
            "jupyterlab                        4.0.11\n",
            "jupyterlab-pygments               0.1.2\n",
            "jupyterlab_server                 2.25.1\n",
            "jupyterlab-widgets                3.0.9\n",
            "keras                             3.2.0\n",
            "keyring                           23.13.1\n",
            "kiwisolver                        1.4.4\n",
            "lazy_loader                       0.3\n",
            "lazy-object-proxy                 1.6.0\n",
            "lckr_jupyterlab_variableinspector 3.1.0\n",
            "libarchive-c                      2.9\n",
            "libclang                          18.1.1\n",
            "libmambapy                        1.5.6\n",
            "linkify-it-py                     2.0.0\n",
            "llvmlite                          0.42.0\n",
            "lmdb                              1.4.1\n",
            "locket                            1.0.0\n",
            "lxml                              4.9.3\n",
            "lz4                               4.3.2\n",
            "Markdown                          3.4.1\n",
            "markdown-it-py                    2.2.0\n",
            "MarkupSafe                        2.1.3\n",
            "matplotlib                        3.8.0\n",
            "matplotlib-inline                 0.1.6\n",
            "mccabe                            0.7.0\n",
            "mdit-py-plugins                   0.3.0\n",
            "mdurl                             0.1.0\n",
            "menuinst                          2.0.2\n",
            "mistune                           2.0.4\n",
            "mkl-fft                           1.3.8\n",
            "mkl-random                        1.2.4\n",
            "mkl-service                       2.4.0\n",
            "ml-dtypes                         0.3.2\n",
            "more-itertools                    10.1.0\n",
            "mpmath                            1.3.0\n",
            "msgpack                           1.0.3\n",
            "multidict                         6.0.4\n",
            "multipledispatch                  0.6.0\n",
            "munkres                           1.1.4\n",
            "mypy                              1.8.0\n",
            "mypy-extensions                   1.0.0\n",
            "namex                             0.0.7\n",
            "navigator-updater                 0.4.0\n",
            "nbclient                          0.8.0\n",
            "nbconvert                         7.10.0\n",
            "nbformat                          5.9.2\n",
            "nest-asyncio                      1.6.0\n",
            "networkx                          3.1\n",
            "nltk                              3.8.1\n",
            "notebook                          7.0.8\n",
            "notebook_shim                     0.2.3\n",
            "numba                             0.59.0\n",
            "numexpr                           2.8.7\n",
            "numpy                             1.26.4\n",
            "numpydoc                          1.5.0\n",
            "opencv-python                     4.9.0.80\n",
            "openpyxl                          3.0.10\n",
            "opt-einsum                        3.3.0\n",
            "optree                            0.11.0\n",
            "overrides                         7.4.0\n",
            "packaging                         23.1\n",
            "pandas                            2.1.4\n",
            "pandocfilters                     1.5.0\n",
            "panel                             1.3.8\n",
            "param                             2.0.2\n",
            "paramiko                          2.8.1\n",
            "parsel                            1.8.1\n",
            "parso                             0.8.3\n",
            "partd                             1.4.1\n",
            "pathlib                           1.0.1\n",
            "pathspec                          0.10.3\n",
            "patsy                             0.5.3\n",
            "pexpect                           4.8.0\n",
            "pickleshare                       0.7.5\n",
            "pillow                            10.2.0\n",
            "pip                               23.3.1\n",
            "pkce                              1.0.3\n",
            "pkginfo                           1.9.6\n",
            "platformdirs                      3.10.0\n",
            "plotly                            5.9.0\n",
            "pluggy                            1.0.0\n",
            "ply                               3.11\n",
            "prometheus-client                 0.14.1\n",
            "prompt-toolkit                    3.0.43\n",
            "Protego                           0.1.16\n",
            "protobuf                          3.20.3\n",
            "psutil                            5.9.0\n",
            "ptyprocess                        0.7.0\n",
            "pure-eval                         0.2.2\n",
            "py-cpuinfo                        9.0.0\n",
            "pyarrow                           14.0.2\n",
            "pyasn1                            0.4.8\n",
            "pyasn1-modules                    0.2.8\n",
            "pycodestyle                       2.10.0\n",
            "pycosat                           0.6.6\n",
            "pycparser                         2.21\n",
            "pyct                              0.5.0\n",
            "pycurl                            7.45.2\n",
            "pydantic                          1.10.12\n",
            "pydeck                            0.8.0\n",
            "PyDispatcher                      2.0.5\n",
            "pydocstyle                        6.3.0\n",
            "pyerfa                            2.0.0\n",
            "pyflakes                          3.0.1\n",
            "Pygments                          2.15.1\n",
            "PyJWT                             2.4.0\n",
            "pylint                            2.16.2\n",
            "pylint-venv                       2.3.0\n",
            "pyls-spyder                       0.4.0\n",
            "PyNaCl                            1.5.0\n",
            "pyodbc                            5.0.1\n",
            "pyOpenSSL                         24.0.0\n",
            "pyparsing                         3.0.9\n",
            "PyQt5                             5.15.10\n",
            "PyQt5-sip                         12.13.0\n",
            "PyQtWebEngine                     5.15.6\n",
            "PySocks                           1.7.1\n",
            "pytest                            7.4.0\n",
            "python-dateutil                   2.8.2\n",
            "python-dotenv                     0.21.0\n",
            "python-json-logger                2.0.7\n",
            "python-lsp-black                  1.2.1\n",
            "python-lsp-jsonrpc                1.0.0\n",
            "python-lsp-server                 1.7.2\n",
            "python-slugify                    5.0.2\n",
            "python-snappy                     0.6.1\n",
            "pytoolconfig                      1.2.6\n",
            "pytz                              2023.3.post1\n",
            "pyviz_comms                       3.0.0\n",
            "pywavelets                        1.5.0\n",
            "pywin32                           305.1\n",
            "pywin32-ctypes                    0.2.0\n",
            "pywinpty                          2.0.10\n",
            "PyYAML                            6.0.1\n",
            "pyzmq                             25.1.2\n",
            "QDarkStyle                        3.0.2\n",
            "qstylizer                         0.2.2\n",
            "QtAwesome                         1.2.2\n",
            "qtconsole                         5.4.2\n",
            "QtPy                              2.4.1\n",
            "queuelib                          1.6.2\n",
            "referencing                       0.30.2\n",
            "regex                             2023.10.3\n",
            "requests                          2.31.0\n",
            "requests-file                     1.5.1\n",
            "requests-toolbelt                 1.0.0\n",
            "rfc3339-validator                 0.1.4\n",
            "rfc3986-validator                 0.1.1\n",
            "rich                              13.3.5\n",
            "rope                              1.7.0\n",
            "rpds-py                           0.10.6\n",
            "Rtree                             1.0.1\n",
            "ruamel.yaml                       0.17.21\n",
            "ruamel-yaml-conda                 0.17.21\n",
            "s3fs                              2023.10.0\n",
            "scikit-image                      0.22.0\n",
            "scikit-learn                      1.2.2\n",
            "scipy                             1.11.4\n",
            "Scrapy                            2.8.0\n",
            "seaborn                           0.12.2\n",
            "semver                            2.13.0\n",
            "Send2Trash                        1.8.2\n",
            "service-identity                  18.1.0\n",
            "setuptools                        68.2.2\n",
            "sip                               6.7.12\n",
            "six                               1.16.0\n",
            "smart-open                        5.2.1\n",
            "smmap                             4.0.0\n",
            "sniffio                           1.3.0\n",
            "snowballstemmer                   2.2.0\n",
            "sortedcontainers                  2.4.0\n",
            "soupsieve                         2.5\n",
            "Sphinx                            5.0.2\n",
            "sphinxcontrib-applehelp           1.0.2\n",
            "sphinxcontrib-devhelp             1.0.2\n",
            "sphinxcontrib-htmlhelp            2.0.0\n",
            "sphinxcontrib-jsmath              1.0.1\n",
            "sphinxcontrib-qthelp              1.0.3\n",
            "sphinxcontrib-serializinghtml     1.1.5\n",
            "spyder                            5.4.3\n",
            "spyder-kernels                    2.4.4\n",
            "SQLAlchemy                        2.0.25\n",
            "stack-data                        0.2.0\n",
            "statsmodels                       0.14.0\n",
            "streamlit                         1.30.0\n",
            "sympy                             1.12\n",
            "tables                            3.9.2\n",
            "tabulate                          0.9.0\n",
            "tblib                             1.7.0\n",
            "tenacity                          8.2.2\n",
            "tensorboard                       2.16.2\n",
            "tensorboard-data-server           0.7.2\n",
            "tensorflow                        2.16.1\n",
            "tensorflow-intel                  2.16.1\n",
            "tensorflow-io-gcs-filesystem      0.31.0\n",
            "termcolor                         2.4.0\n",
            "terminado                         0.17.1\n",
            "text-unidecode                    1.3\n",
            "textdistance                      4.2.1\n",
            "threadpoolctl                     2.2.0\n",
            "three-merge                       0.1.1\n",
            "tifffile                          2023.4.12\n",
            "tinycss2                          1.2.1\n",
            "tldextract                        3.2.0\n",
            "toml                              0.10.2\n",
            "tomlkit                           0.11.1\n",
            "toolz                             0.12.0\n",
            "tornado                           6.3.3\n",
            "tqdm                              4.65.0\n",
            "traitlets                         5.7.1\n",
            "truststore                        0.8.0\n",
            "Twisted                           23.10.0\n",
            "twisted-iocpsupport               1.0.2\n",
            "typing_extensions                 4.9.0\n",
            "tzdata                            2023.3\n",
            "tzlocal                           2.1\n",
            "uc-micro-py                       1.0.1\n",
            "ujson                             5.4.0\n",
            "Unidecode                         1.2.0\n",
            "urllib3                           2.0.7\n",
            "validators                        0.18.2\n",
            "w3lib                             2.1.2\n",
            "watchdog                          2.1.6\n",
            "wcwidth                           0.2.5\n",
            "webencodings                      0.5.1\n",
            "websocket-client                  0.58.0\n",
            "Werkzeug                          2.2.3\n",
            "whatthepatch                      1.0.2\n",
            "wheel                             0.41.2\n",
            "widgetsnbextension                3.5.2\n",
            "win-inet-pton                     1.1.0\n",
            "wrapt                             1.14.1\n",
            "xarray                            2023.6.0\n",
            "xlwings                           0.29.1\n",
            "xyzservices                       2022.9.0\n",
            "yapf                              0.31.0\n",
            "yarl                              1.9.3\n",
            "zict                              3.0.0\n",
            "zipp                              3.17.0\n",
            "zope.interface                    5.4.0\n",
            "zstandard                         0.19.0\n"
          ]
        }
      ],
      "source": [
        "!pip list"
      ]
    },
    {
      "cell_type": "code",
      "execution_count": 2,
      "id": "02f907ea-f669-46c7-adcf-7f257e663448",
      "metadata": {
        "colab": {
          "base_uri": "https://localhost:8080/"
        },
        "id": "02f907ea-f669-46c7-adcf-7f257e663448",
        "outputId": "e444b2f9-189a-40bd-a2f9-925f13917c35",
        "tags": []
      },
      "outputs": [
        {
          "name": "stdout",
          "output_type": "stream",
          "text": [
            "Defaulting to user installation because normal site-packages is not writeable\n",
            "Requirement already satisfied: opencv-python in c:\\users\\lhdto\\appdata\\roaming\\python\\python311\\site-packages (4.9.0.80)\n",
            "Requirement already satisfied: matplotlib in c:\\programdata\\anaconda3\\lib\\site-packages (3.8.0)\n",
            "Requirement already satisfied: imageio in c:\\programdata\\anaconda3\\lib\\site-packages (2.33.1)\n",
            "Requirement already satisfied: gdown in c:\\users\\lhdto\\appdata\\roaming\\python\\python311\\site-packages (5.1.0)\n",
            "Requirement already satisfied: tensorflow in c:\\users\\lhdto\\appdata\\roaming\\python\\python311\\site-packages (2.16.1)\n",
            "Requirement already satisfied: numpy>=1.21.2 in c:\\programdata\\anaconda3\\lib\\site-packages (from opencv-python) (1.26.4)\n",
            "Requirement already satisfied: contourpy>=1.0.1 in c:\\programdata\\anaconda3\\lib\\site-packages (from matplotlib) (1.2.0)\n",
            "Requirement already satisfied: cycler>=0.10 in c:\\programdata\\anaconda3\\lib\\site-packages (from matplotlib) (0.11.0)\n",
            "Requirement already satisfied: fonttools>=4.22.0 in c:\\programdata\\anaconda3\\lib\\site-packages (from matplotlib) (4.25.0)\n",
            "Requirement already satisfied: kiwisolver>=1.0.1 in c:\\programdata\\anaconda3\\lib\\site-packages (from matplotlib) (1.4.4)\n",
            "Requirement already satisfied: packaging>=20.0 in c:\\programdata\\anaconda3\\lib\\site-packages (from matplotlib) (23.1)\n",
            "Requirement already satisfied: pillow>=6.2.0 in c:\\programdata\\anaconda3\\lib\\site-packages (from matplotlib) (10.2.0)\n",
            "Requirement already satisfied: pyparsing>=2.3.1 in c:\\programdata\\anaconda3\\lib\\site-packages (from matplotlib) (3.0.9)\n",
            "Requirement already satisfied: python-dateutil>=2.7 in c:\\programdata\\anaconda3\\lib\\site-packages (from matplotlib) (2.8.2)\n",
            "Requirement already satisfied: beautifulsoup4 in c:\\programdata\\anaconda3\\lib\\site-packages (from gdown) (4.12.2)\n",
            "Requirement already satisfied: filelock in c:\\programdata\\anaconda3\\lib\\site-packages (from gdown) (3.13.1)\n",
            "Requirement already satisfied: requests[socks] in c:\\programdata\\anaconda3\\lib\\site-packages (from gdown) (2.31.0)\n",
            "Requirement already satisfied: tqdm in c:\\programdata\\anaconda3\\lib\\site-packages (from gdown) (4.65.0)\n",
            "Requirement already satisfied: tensorflow-intel==2.16.1 in c:\\users\\lhdto\\appdata\\roaming\\python\\python311\\site-packages (from tensorflow) (2.16.1)\n",
            "Requirement already satisfied: absl-py>=1.0.0 in c:\\users\\lhdto\\appdata\\roaming\\python\\python311\\site-packages (from tensorflow-intel==2.16.1->tensorflow) (2.1.0)\n",
            "Requirement already satisfied: astunparse>=1.6.0 in c:\\users\\lhdto\\appdata\\roaming\\python\\python311\\site-packages (from tensorflow-intel==2.16.1->tensorflow) (1.6.3)\n",
            "Requirement already satisfied: flatbuffers>=23.5.26 in c:\\users\\lhdto\\appdata\\roaming\\python\\python311\\site-packages (from tensorflow-intel==2.16.1->tensorflow) (24.3.25)\n",
            "Requirement already satisfied: gast!=0.5.0,!=0.5.1,!=0.5.2,>=0.2.1 in c:\\users\\lhdto\\appdata\\roaming\\python\\python311\\site-packages (from tensorflow-intel==2.16.1->tensorflow) (0.5.4)\n",
            "Requirement already satisfied: google-pasta>=0.1.1 in c:\\users\\lhdto\\appdata\\roaming\\python\\python311\\site-packages (from tensorflow-intel==2.16.1->tensorflow) (0.2.0)\n",
            "Requirement already satisfied: h5py>=3.10.0 in c:\\users\\lhdto\\appdata\\roaming\\python\\python311\\site-packages (from tensorflow-intel==2.16.1->tensorflow) (3.11.0)\n",
            "Requirement already satisfied: libclang>=13.0.0 in c:\\users\\lhdto\\appdata\\roaming\\python\\python311\\site-packages (from tensorflow-intel==2.16.1->tensorflow) (18.1.1)\n",
            "Requirement already satisfied: ml-dtypes~=0.3.1 in c:\\users\\lhdto\\appdata\\roaming\\python\\python311\\site-packages (from tensorflow-intel==2.16.1->tensorflow) (0.3.2)\n",
            "Requirement already satisfied: opt-einsum>=2.3.2 in c:\\users\\lhdto\\appdata\\roaming\\python\\python311\\site-packages (from tensorflow-intel==2.16.1->tensorflow) (3.3.0)\n",
            "Requirement already satisfied: protobuf!=4.21.0,!=4.21.1,!=4.21.2,!=4.21.3,!=4.21.4,!=4.21.5,<5.0.0dev,>=3.20.3 in c:\\programdata\\anaconda3\\lib\\site-packages (from tensorflow-intel==2.16.1->tensorflow) (3.20.3)\n",
            "Requirement already satisfied: setuptools in c:\\programdata\\anaconda3\\lib\\site-packages (from tensorflow-intel==2.16.1->tensorflow) (68.2.2)\n",
            "Requirement already satisfied: six>=1.12.0 in c:\\programdata\\anaconda3\\lib\\site-packages (from tensorflow-intel==2.16.1->tensorflow) (1.16.0)\n",
            "Requirement already satisfied: termcolor>=1.1.0 in c:\\users\\lhdto\\appdata\\roaming\\python\\python311\\site-packages (from tensorflow-intel==2.16.1->tensorflow) (2.4.0)\n",
            "Requirement already satisfied: typing-extensions>=3.6.6 in c:\\programdata\\anaconda3\\lib\\site-packages (from tensorflow-intel==2.16.1->tensorflow) (4.9.0)\n",
            "Requirement already satisfied: wrapt>=1.11.0 in c:\\programdata\\anaconda3\\lib\\site-packages (from tensorflow-intel==2.16.1->tensorflow) (1.14.1)\n",
            "Requirement already satisfied: grpcio<2.0,>=1.24.3 in c:\\users\\lhdto\\appdata\\roaming\\python\\python311\\site-packages (from tensorflow-intel==2.16.1->tensorflow) (1.62.1)\n",
            "Requirement already satisfied: tensorboard<2.17,>=2.16 in c:\\users\\lhdto\\appdata\\roaming\\python\\python311\\site-packages (from tensorflow-intel==2.16.1->tensorflow) (2.16.2)\n",
            "Requirement already satisfied: keras>=3.0.0 in c:\\users\\lhdto\\appdata\\roaming\\python\\python311\\site-packages (from tensorflow-intel==2.16.1->tensorflow) (3.2.0)\n",
            "Requirement already satisfied: tensorflow-io-gcs-filesystem>=0.23.1 in c:\\users\\lhdto\\appdata\\roaming\\python\\python311\\site-packages (from tensorflow-intel==2.16.1->tensorflow) (0.31.0)\n",
            "Requirement already satisfied: soupsieve>1.2 in c:\\programdata\\anaconda3\\lib\\site-packages (from beautifulsoup4->gdown) (2.5)\n",
            "Requirement already satisfied: charset-normalizer<4,>=2 in c:\\programdata\\anaconda3\\lib\\site-packages (from requests[socks]->gdown) (2.0.4)\n",
            "Requirement already satisfied: idna<4,>=2.5 in c:\\programdata\\anaconda3\\lib\\site-packages (from requests[socks]->gdown) (3.4)\n",
            "Requirement already satisfied: urllib3<3,>=1.21.1 in c:\\programdata\\anaconda3\\lib\\site-packages (from requests[socks]->gdown) (2.0.7)\n",
            "Requirement already satisfied: certifi>=2017.4.17 in c:\\programdata\\anaconda3\\lib\\site-packages (from requests[socks]->gdown) (2024.2.2)\n",
            "Requirement already satisfied: PySocks!=1.5.7,>=1.5.6 in c:\\programdata\\anaconda3\\lib\\site-packages (from requests[socks]->gdown) (1.7.1)\n",
            "Requirement already satisfied: colorama in c:\\programdata\\anaconda3\\lib\\site-packages (from tqdm->gdown) (0.4.6)\n",
            "Requirement already satisfied: wheel<1.0,>=0.23.0 in c:\\programdata\\anaconda3\\lib\\site-packages (from astunparse>=1.6.0->tensorflow-intel==2.16.1->tensorflow) (0.41.2)\n",
            "Requirement already satisfied: rich in c:\\programdata\\anaconda3\\lib\\site-packages (from keras>=3.0.0->tensorflow-intel==2.16.1->tensorflow) (13.3.5)\n",
            "Requirement already satisfied: namex in c:\\users\\lhdto\\appdata\\roaming\\python\\python311\\site-packages (from keras>=3.0.0->tensorflow-intel==2.16.1->tensorflow) (0.0.7)\n",
            "Requirement already satisfied: optree in c:\\users\\lhdto\\appdata\\roaming\\python\\python311\\site-packages (from keras>=3.0.0->tensorflow-intel==2.16.1->tensorflow) (0.11.0)\n",
            "Requirement already satisfied: markdown>=2.6.8 in c:\\programdata\\anaconda3\\lib\\site-packages (from tensorboard<2.17,>=2.16->tensorflow-intel==2.16.1->tensorflow) (3.4.1)\n",
            "Requirement already satisfied: tensorboard-data-server<0.8.0,>=0.7.0 in c:\\users\\lhdto\\appdata\\roaming\\python\\python311\\site-packages (from tensorboard<2.17,>=2.16->tensorflow-intel==2.16.1->tensorflow) (0.7.2)\n",
            "Requirement already satisfied: werkzeug>=1.0.1 in c:\\programdata\\anaconda3\\lib\\site-packages (from tensorboard<2.17,>=2.16->tensorflow-intel==2.16.1->tensorflow) (2.2.3)\n",
            "Requirement already satisfied: MarkupSafe>=2.1.1 in c:\\programdata\\anaconda3\\lib\\site-packages (from werkzeug>=1.0.1->tensorboard<2.17,>=2.16->tensorflow-intel==2.16.1->tensorflow) (2.1.3)\n",
            "Requirement already satisfied: markdown-it-py<3.0.0,>=2.2.0 in c:\\programdata\\anaconda3\\lib\\site-packages (from rich->keras>=3.0.0->tensorflow-intel==2.16.1->tensorflow) (2.2.0)\n",
            "Requirement already satisfied: pygments<3.0.0,>=2.13.0 in c:\\programdata\\anaconda3\\lib\\site-packages (from rich->keras>=3.0.0->tensorflow-intel==2.16.1->tensorflow) (2.15.1)\n",
            "Requirement already satisfied: mdurl~=0.1 in c:\\programdata\\anaconda3\\lib\\site-packages (from markdown-it-py<3.0.0,>=2.2.0->rich->keras>=3.0.0->tensorflow-intel==2.16.1->tensorflow) (0.1.0)\n"
          ]
        }
      ],
      "source": [
        "!pip install opencv-python matplotlib imageio gdown tensorflow"
      ]
    },
    {
      "cell_type": "code",
      "execution_count": 3,
      "id": "b24af50c-20b8-409d-ad78-30a933fdd669",
      "metadata": {
        "id": "b24af50c-20b8-409d-ad78-30a933fdd669",
        "tags": []
      },
      "outputs": [],
      "source": [
        "import os\n",
        "import cv2\n",
        "import tensorflow as tf\n",
        "import numpy as np\n",
        "from typing import List\n",
        "from matplotlib import pyplot as plt\n",
        "import imageio\n",
        "import keras"
      ]
    },
    {
      "cell_type": "code",
      "execution_count": 4,
      "id": "1e3db0b0-e559-4ad6-91fd-e7414b7d75e6",
      "metadata": {
        "colab": {
          "base_uri": "https://localhost:8080/"
        },
        "id": "1e3db0b0-e559-4ad6-91fd-e7414b7d75e6",
        "outputId": "c1e41844-c8fd-4efc-eb22-11f3817b0c9f"
      },
      "outputs": [
        {
          "data": {
            "text/plain": [
              "[]"
            ]
          },
          "execution_count": 4,
          "metadata": {},
          "output_type": "execute_result"
        }
      ],
      "source": [
        "tf.config.list_physical_devices('GPU')"
      ]
    },
    {
      "cell_type": "code",
      "execution_count": 5,
      "id": "378d045a-3003-4f93-b7d2-a25a97774a68",
      "metadata": {
        "id": "378d045a-3003-4f93-b7d2-a25a97774a68",
        "tags": []
      },
      "outputs": [],
      "source": [
        "physical_devices = tf.config.list_physical_devices('GPU')\n",
        "try:\n",
        "    tf.config.experimental.set_memory_growth(physical_devices[0], True)\n",
        "except:\n",
        "    pass"
      ]
    },
    {
      "cell_type": "markdown",
      "id": "7a19e88e-c7b9-45c1-ae1e-f2109329c71b",
      "metadata": {
        "id": "7a19e88e-c7b9-45c1-ae1e-f2109329c71b",
        "tags": []
      },
      "source": [
        "# 1. Build Data Loading Functions"
      ]
    },
    {
      "cell_type": "code",
      "execution_count": 6,
      "id": "8fb99c90-e05a-437f-839d-6e772f8c1dd5",
      "metadata": {
        "id": "8fb99c90-e05a-437f-839d-6e772f8c1dd5",
        "tags": []
      },
      "outputs": [],
      "source": [
        "import gdown"
      ]
    },
    {
      "cell_type": "code",
      "execution_count": 7,
      "id": "c019e4c6-2af3-4160-99ea-5c8cb009f1a7",
      "metadata": {
        "colab": {
          "base_uri": "https://localhost:8080/"
        },
        "id": "c019e4c6-2af3-4160-99ea-5c8cb009f1a7",
        "outputId": "49a7c7ff-ab7d-480e-bcfd-ee652ad89af1",
        "tags": []
      },
      "outputs": [],
      "source": [
        "# url = 'https://drive.google.com/uc?id=1YlvpDLix3S-U8fd-gqRwPcWXAXm8JwjL'\n",
        "# output = 'data.zip'\n",
        "# gdown.download(url, output, quiet=False)\n",
        "# gdown.extractall('data.zip')"
      ]
    },
    {
      "cell_type": "code",
      "execution_count": 8,
      "id": "8548cc59-6dfc-4acc-abc3-3e65212db02e",
      "metadata": {
        "id": "8548cc59-6dfc-4acc-abc3-3e65212db02e",
        "tags": []
      },
      "outputs": [],
      "source": [
        "def load_video(path:str) -> List[float]:\n",
        "\n",
        "    cap = cv2.VideoCapture(path)\n",
        "    frames = []\n",
        "    for _ in range(int(cap.get(cv2.CAP_PROP_FRAME_COUNT))):\n",
        "        ret, frame = cap.read()\n",
        "        frame = tf.image.rgb_to_grayscale(frame)\n",
        "        frames.append(frame[190:236,80:220,:])\n",
        "    cap.release()\n",
        "\n",
        "    mean = tf.math.reduce_mean(frames)\n",
        "    std = tf.math.reduce_std(tf.cast(frames, tf.float32))\n",
        "    return tf.cast((frames - mean), tf.float32) / std"
      ]
    },
    {
      "cell_type": "code",
      "execution_count": 9,
      "id": "ec735e0b-ec98-4eb0-8f49-c35527d6670a",
      "metadata": {
        "id": "ec735e0b-ec98-4eb0-8f49-c35527d6670a",
        "tags": []
      },
      "outputs": [],
      "source": [
        "vocab = [x for x in \"abcdefghijklmnopqrstuvwxyz'?!123456789 \"]"
      ]
    },
    {
      "cell_type": "code",
      "execution_count": 10,
      "id": "be04e972-d7a5-4a72-82d8-a6bdde1f3ce6",
      "metadata": {
        "colab": {
          "base_uri": "https://localhost:8080/"
        },
        "id": "be04e972-d7a5-4a72-82d8-a6bdde1f3ce6",
        "outputId": "01f490ee-dabf-4e94-c6ed-181e8c1ae2c4",
        "tags": []
      },
      "outputs": [
        {
          "name": "stdout",
          "output_type": "stream",
          "text": [
            "The vocabulary is: ['', 'a', 'b', 'c', 'd', 'e', 'f', 'g', 'h', 'i', 'j', 'k', 'l', 'm', 'n', 'o', 'p', 'q', 'r', 's', 't', 'u', 'v', 'w', 'x', 'y', 'z', \"'\", '?', '!', '1', '2', '3', '4', '5', '6', '7', '8', '9', ' '] (size =40)\n"
          ]
        }
      ],
      "source": [
        "# char_to_num = tf.keras.layers.StringLookup(vocabulary=vocab, oov_token=\"\")\n",
        "# num_to_char = tf.keras.layers.StringLookup(\n",
        "#     vocabulary=char_to_num.get_vocabulary(), oov_token=\"\", invert=True\n",
        "# )\n",
        "char_to_num = keras.layers.StringLookup(vocabulary=vocab, oov_token=\"\")\n",
        "num_to_char = keras.layers.StringLookup(\n",
        "    vocabulary=char_to_num.get_vocabulary(), oov_token=\"\", invert=True\n",
        ")\n",
        "\n",
        "print(\n",
        "    f\"The vocabulary is: {char_to_num.get_vocabulary()} \"\n",
        "    f\"(size ={char_to_num.vocabulary_size()})\"\n",
        ")"
      ]
    },
    {
      "cell_type": "code",
      "execution_count": 11,
      "id": "559f7420-6802-45fa-9ca0-b1ff209b461c",
      "metadata": {
        "colab": {
          "base_uri": "https://localhost:8080/"
        },
        "id": "559f7420-6802-45fa-9ca0-b1ff209b461c",
        "outputId": "90f0547b-3308-478e-be4a-c89cef1d58e6",
        "tags": []
      },
      "outputs": [
        {
          "data": {
            "text/plain": [
              "['',\n",
              " 'a',\n",
              " 'b',\n",
              " 'c',\n",
              " 'd',\n",
              " 'e',\n",
              " 'f',\n",
              " 'g',\n",
              " 'h',\n",
              " 'i',\n",
              " 'j',\n",
              " 'k',\n",
              " 'l',\n",
              " 'm',\n",
              " 'n',\n",
              " 'o',\n",
              " 'p',\n",
              " 'q',\n",
              " 'r',\n",
              " 's',\n",
              " 't',\n",
              " 'u',\n",
              " 'v',\n",
              " 'w',\n",
              " 'x',\n",
              " 'y',\n",
              " 'z',\n",
              " \"'\",\n",
              " '?',\n",
              " '!',\n",
              " '1',\n",
              " '2',\n",
              " '3',\n",
              " '4',\n",
              " '5',\n",
              " '6',\n",
              " '7',\n",
              " '8',\n",
              " '9',\n",
              " ' ']"
            ]
          },
          "execution_count": 11,
          "metadata": {},
          "output_type": "execute_result"
        }
      ],
      "source": [
        "char_to_num.get_vocabulary()"
      ]
    },
    {
      "cell_type": "code",
      "execution_count": 12,
      "id": "797ff78b-b48f-4e14-bb62-8cd0ebf9501a",
      "metadata": {
        "colab": {
          "base_uri": "https://localhost:8080/"
        },
        "id": "797ff78b-b48f-4e14-bb62-8cd0ebf9501a",
        "outputId": "cedf213c-95e4-439a-a871-641aec307517",
        "tags": []
      },
      "outputs": [
        {
          "data": {
            "text/plain": [
              "<tf.Tensor: shape=(4,), dtype=int64, numpy=array([14,  9,  3, 11], dtype=int64)>"
            ]
          },
          "execution_count": 12,
          "metadata": {},
          "output_type": "execute_result"
        }
      ],
      "source": [
        "char_to_num(['n','i','c','k'])"
      ]
    },
    {
      "cell_type": "code",
      "execution_count": 13,
      "id": "8cd7f4f4-ae77-4509-a4f4-c723787ebad1",
      "metadata": {
        "colab": {
          "base_uri": "https://localhost:8080/"
        },
        "id": "8cd7f4f4-ae77-4509-a4f4-c723787ebad1",
        "outputId": "cb5428be-73ea-47b2-ea8e-4d2c4e3dcb00"
      },
      "outputs": [
        {
          "data": {
            "text/plain": [
              "<tf.Tensor: shape=(4,), dtype=string, numpy=array([b'n', b'i', b'c', b'k'], dtype=object)>"
            ]
          },
          "execution_count": 13,
          "metadata": {},
          "output_type": "execute_result"
        }
      ],
      "source": [
        "num_to_char([14,  9,  3, 11])"
      ]
    },
    {
      "cell_type": "code",
      "execution_count": 14,
      "id": "9491bab5-6a3c-4f79-879a-8f9fbe73ae2e",
      "metadata": {
        "id": "9491bab5-6a3c-4f79-879a-8f9fbe73ae2e",
        "tags": []
      },
      "outputs": [],
      "source": [
        "def load_alignments(path:str) -> List[str]:\n",
        "    with open(path, 'r') as f:\n",
        "        lines = f.readlines()\n",
        "    tokens = []\n",
        "    for line in lines:\n",
        "        line = line.split()\n",
        "        if line[2] != 'sil':\n",
        "            tokens = [*tokens,' ',line[2]]\n",
        "    return char_to_num(tf.reshape(tf.strings.unicode_split(tokens, input_encoding='UTF-8'), (-1)))[1:]"
      ]
    },
    {
      "cell_type": "code",
      "execution_count": 15,
      "id": "dd01ca9f-77fb-4643-a2aa-47dd82c5d66b",
      "metadata": {
        "id": "dd01ca9f-77fb-4643-a2aa-47dd82c5d66b",
        "tags": []
      },
      "outputs": [],
      "source": [
        "def load_data(path: str):\n",
        "    path = bytes.decode(path.numpy())\n",
        "    # file_name = path.split('/')[-1].split('.')[0]\n",
        "    # File name splitting for windows\n",
        "    file_name = path.split('\\\\')[-1].split('.')[0]\n",
        "    video_path = os.path.join('data','s1',f'{file_name}.mpg')\n",
        "    alignment_path = os.path.join('data','alignments','s1',f'{file_name}.align')\n",
        "    frames = load_video(video_path)\n",
        "    alignments = load_alignments(alignment_path)\n",
        "\n",
        "    return frames, alignments"
      ]
    },
    {
      "cell_type": "code",
      "execution_count": 16,
      "id": "8cb7cc58-31ae-4904-a805-1177a82717d2",
      "metadata": {
        "id": "8cb7cc58-31ae-4904-a805-1177a82717d2",
        "tags": []
      },
      "outputs": [],
      "source": [
        "test_path = '.\\\\data\\\\s1\\\\bbal6n.mpg'\n",
        "# test_path = './data/s1/bbal6n.mpg'"
      ]
    },
    {
      "cell_type": "code",
      "execution_count": 17,
      "id": "76aa964f-0c84-490d-897a-d00e3966e2c9",
      "metadata": {
        "colab": {
          "base_uri": "https://localhost:8080/",
          "height": 35
        },
        "id": "76aa964f-0c84-490d-897a-d00e3966e2c9",
        "outputId": "d04d49ad-4eeb-4be1-ffa7-f2655aa86a7a"
      },
      "outputs": [
        {
          "data": {
            "text/plain": [
              "'bbal6n'"
            ]
          },
          "execution_count": 17,
          "metadata": {},
          "output_type": "execute_result"
        }
      ],
      "source": [
        "tf.convert_to_tensor(test_path).numpy().decode('utf-8').split('\\\\')[-1].split('.')[0]\n",
        "# tf.convert_to_tensor(test_path).numpy().decode('utf-8').split('/')[-1].split('.')[0]"
      ]
    },
    {
      "cell_type": "code",
      "execution_count": 18,
      "id": "eb602c71-8560-4f9e-b26b-08202febb937",
      "metadata": {
        "id": "eb602c71-8560-4f9e-b26b-08202febb937",
        "scrolled": true,
        "tags": []
      },
      "outputs": [],
      "source": [
        "frames, alignments = load_data(tf.convert_to_tensor(test_path))"
      ]
    },
    {
      "cell_type": "code",
      "execution_count": 19,
      "id": "0e3184a1-6b02-4b4f-84a8-a0a65f951ea2",
      "metadata": {
        "colab": {
          "base_uri": "https://localhost:8080/",
          "height": 244
        },
        "id": "0e3184a1-6b02-4b4f-84a8-a0a65f951ea2",
        "outputId": "ca65c601-b300-4a41-d8fe-7915a8e5a50b"
      },
      "outputs": [
        {
          "data": {
            "text/plain": [
              "<matplotlib.image.AxesImage at 0x1b7e2beb1a0>"
            ]
          },
          "execution_count": 19,
          "metadata": {},
          "output_type": "execute_result"
        },
        {
          "data": {
            "image/png": "[encoded data removed]",
            "text/plain": [
              "<Figure size 640x480 with 1 Axes>"
            ]
          },
          "metadata": {},
          "output_type": "display_data"
        }
      ],
      "source": [
        "plt.imshow(frames[40])"
      ]
    },
    {
      "cell_type": "code",
      "execution_count": 20,
      "id": "d7ec0833-d54b-4073-84cf-92d011c60ec1",
      "metadata": {
        "colab": {
          "base_uri": "https://localhost:8080/"
        },
        "id": "d7ec0833-d54b-4073-84cf-92d011c60ec1",
        "outputId": "02abd7a1-113b-42b1-a6ba-9a458373b112"
      },
      "outputs": [
        {
          "data": {
            "text/plain": [
              "<tf.Tensor: shape=(21,), dtype=int64, numpy=\n",
              "array([ 2,  9, 14, 39,  2, 12, 21,  5, 39,  1, 20, 39, 12, 39, 19,  9, 24,\n",
              "       39, 14, 15, 23], dtype=int64)>"
            ]
          },
          "execution_count": 20,
          "metadata": {},
          "output_type": "execute_result"
        }
      ],
      "source": [
        "alignments"
      ]
    },
    {
      "cell_type": "code",
      "execution_count": 21,
      "id": "fe1ad370-b287-4b46-85a2-7c45b0bd9b10",
      "metadata": {
        "colab": {
          "base_uri": "https://localhost:8080/"
        },
        "id": "fe1ad370-b287-4b46-85a2-7c45b0bd9b10",
        "outputId": "8910d788-545b-4e76-b154-4a90d8e63927"
      },
      "outputs": [
        {
          "data": {
            "text/plain": [
              "<tf.Tensor: shape=(), dtype=string, numpy=b'bin blue at l six now'>"
            ]
          },
          "execution_count": 21,
          "metadata": {},
          "output_type": "execute_result"
        }
      ],
      "source": [
        "tf.strings.reduce_join([bytes.decode(x) for x in num_to_char(alignments.numpy()).numpy()])"
      ]
    },
    {
      "cell_type": "code",
      "execution_count": 22,
      "id": "6871031a-b0ba-4c76-a852-f6329b0f2606",
      "metadata": {
        "id": "6871031a-b0ba-4c76-a852-f6329b0f2606",
        "tags": []
      },
      "outputs": [],
      "source": [
        "def mappable_function(path:str) ->List[str]:\n",
        "    result = tf.py_function(load_data, [path], (tf.float32, tf.int64))\n",
        "    return result"
      ]
    },
    {
      "cell_type": "markdown",
      "id": "c40a7eb4-0c3e-4eab-9291-5611cb68ce08",
      "metadata": {
        "id": "c40a7eb4-0c3e-4eab-9291-5611cb68ce08",
        "tags": []
      },
      "source": [
        "# 2. Create Data Pipeline"
      ]
    },
    {
      "cell_type": "code",
      "execution_count": 23,
      "id": "7686355d-45aa-4c85-ad9c-053e6a9b4d81",
      "metadata": {
        "id": "7686355d-45aa-4c85-ad9c-053e6a9b4d81",
        "tags": []
      },
      "outputs": [],
      "source": [
        "from matplotlib import pyplot as plt"
      ]
    },
    {
      "cell_type": "code",
      "execution_count": 54,
      "id": "f066fea2-91b1-42ed-a67d-00566a1a53ff",
      "metadata": {
        "id": "f066fea2-91b1-42ed-a67d-00566a1a53ff",
        "tags": []
      },
      "outputs": [],
      "source": [
        "data = tf.data.Dataset.list_files('./data/s1/*.mpg')\n",
        "data = data.shuffle(500, reshuffle_each_iteration=False)\n",
        "data = data.map(mappable_function)\n",
        "data = data.padded_batch(2, padded_shapes=([75,None,None,None],[40]))\n",
        "data = data.prefetch(tf.data.AUTOTUNE)\n",
        "# Added for split\n",
        "train = data.take(450)\n",
        "test = data.skip(450)"
      ]
    },
    {
      "cell_type": "code",
      "execution_count": 25,
      "id": "6b1365bd-7742-41d1-95d4-247021751c3a",
      "metadata": {
        "colab": {
          "base_uri": "https://localhost:8080/"
        },
        "id": "6b1365bd-7742-41d1-95d4-247021751c3a",
        "outputId": "facfc0fa-bf61-4aff-b8ed-f1a42278a4b3"
      },
      "outputs": [
        {
          "data": {
            "text/plain": [
              "50"
            ]
          },
          "execution_count": 25,
          "metadata": {},
          "output_type": "execute_result"
        }
      ],
      "source": [
        "len(test)"
      ]
    },
    {
      "cell_type": "code",
      "execution_count": 26,
      "id": "5281bde8-fdc8-4da1-bd55-5a7929a9e80c",
      "metadata": {
        "id": "5281bde8-fdc8-4da1-bd55-5a7929a9e80c"
      },
      "outputs": [],
      "source": [
        "frames, alignments = data.as_numpy_iterator().next()"
      ]
    },
    {
      "cell_type": "code",
      "execution_count": 27,
      "id": "cbebe683-6afd-47fd-bba4-c83b4b13bb32",
      "metadata": {
        "colab": {
          "base_uri": "https://localhost:8080/"
        },
        "id": "cbebe683-6afd-47fd-bba4-c83b4b13bb32",
        "outputId": "8924019e-28cd-4bfa-9e1e-bb836d71e6f8"
      },
      "outputs": [
        {
          "data": {
            "text/plain": [
              "2"
            ]
          },
          "execution_count": 27,
          "metadata": {},
          "output_type": "execute_result"
        }
      ],
      "source": [
        "len(frames)"
      ]
    },
    {
      "cell_type": "code",
      "execution_count": 28,
      "id": "5cf2d676-93a9-434c-b3c7-bdcc2577b2e7",
      "metadata": {
        "id": "5cf2d676-93a9-434c-b3c7-bdcc2577b2e7",
        "tags": []
      },
      "outputs": [],
      "source": [
        "sample = data.as_numpy_iterator()"
      ]
    },
    {
      "cell_type": "code",
      "execution_count": 29,
      "id": "efa6cd46-7079-46c0-b45b-832f339f6cb0",
      "metadata": {
        "colab": {
          "base_uri": "https://localhost:8080/"
        },
        "id": "efa6cd46-7079-46c0-b45b-832f339f6cb0",
        "outputId": "c24ecd06-8d12-4531-df65-27a9f77acada",
        "scrolled": true,
        "tags": []
      },
      "outputs": [
        {
          "data": {
            "text/plain": [
              "array([[[[[ 1.3226067 ],\n",
              "          [ 1.3226067 ],\n",
              "          [ 1.4393072 ],\n",
              "          ...,\n",
              "          [ 9.0637455 ],\n",
              "          [ 9.725049  ],\n",
              "          [ 9.763949  ]],\n",
              "\n",
              "         [[ 1.3226067 ],\n",
              "          [ 1.3226067 ],\n",
              "          [ 1.4393072 ],\n",
              "          ...,\n",
              "          [ 9.180446  ],\n",
              "          [ 9.608348  ],\n",
              "          [ 9.686149  ]],\n",
              "\n",
              "         [[ 1.2448063 ],\n",
              "          [ 1.2448063 ],\n",
              "          [ 1.2448063 ],\n",
              "          ...,\n",
              "          [ 9.802849  ],\n",
              "          [ 9.91955   ],\n",
              "          [ 9.91955   ]],\n",
              "\n",
              "         ...,\n",
              "\n",
              "         [[ 0.89470446],\n",
              "          [ 0.89470446],\n",
              "          [ 0.89470446],\n",
              "          ...,\n",
              "          [ 9.802849  ],\n",
              "          [ 9.725049  ],\n",
              "          [ 9.725049  ]],\n",
              "\n",
              "         [[ 0.89470446],\n",
              "          [ 0.89470446],\n",
              "          [ 0.89470446],\n",
              "          ...,\n",
              "          [ 9.647248  ],\n",
              "          [ 9.647248  ],\n",
              "          [ 9.647248  ]],\n",
              "\n",
              "         [[ 0.89470446],\n",
              "          [ 0.89470446],\n",
              "          [ 0.89470446],\n",
              "          ...,\n",
              "          [ 9.647248  ],\n",
              "          [ 9.647248  ],\n",
              "          [ 9.647248  ]]],\n",
              "\n",
              "\n",
              "        [[[ 1.2837064 ],\n",
              "          [ 1.2837064 ],\n",
              "          [ 1.3615068 ],\n",
              "          ...,\n",
              "          [ 9.219346  ],\n",
              "          [ 9.841749  ],\n",
              "          [ 9.841749  ]],\n",
              "\n",
              "         [[ 1.2837064 ],\n",
              "          [ 1.2837064 ],\n",
              "          [ 1.3615068 ],\n",
              "          ...,\n",
              "          [ 9.336047  ],\n",
              "          [ 9.725049  ],\n",
              "          [ 9.763949  ]],\n",
              "\n",
              "         [[ 1.205906  ],\n",
              "          [ 1.205906  ],\n",
              "          [ 1.205906  ],\n",
              "          ...,\n",
              "          [ 9.91955   ],\n",
              "          [ 9.91955   ],\n",
              "          [ 9.91955   ]],\n",
              "\n",
              "         ...,\n",
              "\n",
              "         [[ 0.93360466],\n",
              "          [ 0.89470446],\n",
              "          [ 0.89470446],\n",
              "          ...,\n",
              "          [ 9.763949  ],\n",
              "          [ 9.802849  ],\n",
              "          [ 9.802849  ]],\n",
              "\n",
              "         [[ 0.93360466],\n",
              "          [ 0.89470446],\n",
              "          [ 0.89470446],\n",
              "          ...,\n",
              "          [ 9.686149  ],\n",
              "          [ 9.686149  ],\n",
              "          [ 9.686149  ]],\n",
              "\n",
              "         [[ 0.93360466],\n",
              "          [ 0.89470446],\n",
              "          [ 0.89470446],\n",
              "          ...,\n",
              "          [ 9.686149  ],\n",
              "          [ 9.686149  ],\n",
              "          [ 9.686149  ]]],\n",
              "\n",
              "\n",
              "        [[[ 1.2837064 ],\n",
              "          [ 1.2837064 ],\n",
              "          [ 1.3615068 ],\n",
              "          ...,\n",
              "          [ 9.180446  ],\n",
              "          [ 9.841749  ],\n",
              "          [ 9.802849  ]],\n",
              "\n",
              "         [[ 1.2837064 ],\n",
              "          [ 1.2837064 ],\n",
              "          [ 1.3615068 ],\n",
              "          ...,\n",
              "          [ 9.336047  ],\n",
              "          [ 9.647248  ],\n",
              "          [ 9.763949  ]],\n",
              "\n",
              "         [[ 1.3226067 ],\n",
              "          [ 1.3226067 ],\n",
              "          [ 1.3226067 ],\n",
              "          ...,\n",
              "          [ 9.88065   ],\n",
              "          [ 9.91955   ],\n",
              "          [ 9.91955   ]],\n",
              "\n",
              "         ...,\n",
              "\n",
              "         [[ 0.93360466],\n",
              "          [ 0.89470446],\n",
              "          [ 0.89470446],\n",
              "          ...,\n",
              "          [ 9.763949  ],\n",
              "          [ 9.802849  ],\n",
              "          [ 9.802849  ]],\n",
              "\n",
              "         [[ 0.93360466],\n",
              "          [ 0.89470446],\n",
              "          [ 0.89470446],\n",
              "          ...,\n",
              "          [ 9.686149  ],\n",
              "          [ 9.725049  ],\n",
              "          [ 9.725049  ]],\n",
              "\n",
              "         [[ 0.93360466],\n",
              "          [ 0.89470446],\n",
              "          [ 0.89470446],\n",
              "          ...,\n",
              "          [ 9.686149  ],\n",
              "          [ 9.725049  ],\n",
              "          [ 9.725049  ]]],\n",
              "\n",
              "\n",
              "        ...,\n",
              "\n",
              "\n",
              "        [[[ 1.4004071 ],\n",
              "          [ 1.4004071 ],\n",
              "          [ 1.4004071 ],\n",
              "          ...,\n",
              "          [ 9.297147  ],\n",
              "          [ 9.802849  ],\n",
              "          [ 9.802849  ]],\n",
              "\n",
              "         [[ 1.3226067 ],\n",
              "          [ 1.3226067 ],\n",
              "          [ 1.3226067 ],\n",
              "          ...,\n",
              "          [ 9.219346  ],\n",
              "          [ 9.686149  ],\n",
              "          [ 0.        ]],\n",
              "\n",
              "         [[ 1.2837064 ],\n",
              "          [ 1.2837064 ],\n",
              "          [ 1.2837064 ],\n",
              "          ...,\n",
              "          [ 9.841749  ],\n",
              "          [ 0.        ],\n",
              "          [ 0.        ]],\n",
              "\n",
              "         ...,\n",
              "\n",
              "         [[ 0.89470446],\n",
              "          [ 0.89470446],\n",
              "          [ 0.89470446],\n",
              "          ...,\n",
              "          [ 9.725049  ],\n",
              "          [ 9.725049  ],\n",
              "          [ 9.725049  ]],\n",
              "\n",
              "         [[ 0.89470446],\n",
              "          [ 0.89470446],\n",
              "          [ 0.89470446],\n",
              "          ...,\n",
              "          [ 9.725049  ],\n",
              "          [ 9.686149  ],\n",
              "          [ 9.725049  ]],\n",
              "\n",
              "         [[ 0.89470446],\n",
              "          [ 0.89470446],\n",
              "          [ 0.89470446],\n",
              "          ...,\n",
              "          [ 9.725049  ],\n",
              "          [ 9.686149  ],\n",
              "          [ 9.725049  ]]],\n",
              "\n",
              "\n",
              "        [[[ 1.2837064 ],\n",
              "          [ 1.2837064 ],\n",
              "          [ 1.3226067 ],\n",
              "          ...,\n",
              "          [ 9.336047  ],\n",
              "          [ 9.91955   ],\n",
              "          [ 9.802849  ]],\n",
              "\n",
              "         [[ 1.2448063 ],\n",
              "          [ 1.2448063 ],\n",
              "          [ 1.2837064 ],\n",
              "          ...,\n",
              "          [ 9.258246  ],\n",
              "          [ 9.91955   ],\n",
              "          [ 9.91955   ]],\n",
              "\n",
              "         [[ 1.3226067 ],\n",
              "          [ 1.3226067 ],\n",
              "          [ 1.3226067 ],\n",
              "          ...,\n",
              "          [ 9.841749  ],\n",
              "          [ 0.        ],\n",
              "          [ 0.        ]],\n",
              "\n",
              "         ...,\n",
              "\n",
              "         [[ 0.93360466],\n",
              "          [ 0.93360466],\n",
              "          [ 0.89470446],\n",
              "          ...,\n",
              "          [ 9.802849  ],\n",
              "          [ 9.725049  ],\n",
              "          [ 9.725049  ]],\n",
              "\n",
              "         [[ 0.93360466],\n",
              "          [ 0.93360466],\n",
              "          [ 0.89470446],\n",
              "          ...,\n",
              "          [ 9.802849  ],\n",
              "          [ 9.686149  ],\n",
              "          [ 9.725049  ]],\n",
              "\n",
              "         [[ 0.89470446],\n",
              "          [ 0.89470446],\n",
              "          [ 0.85580426],\n",
              "          ...,\n",
              "          [ 9.802849  ],\n",
              "          [ 9.686149  ],\n",
              "          [ 9.725049  ]]],\n",
              "\n",
              "\n",
              "        [[[ 1.3615068 ],\n",
              "          [ 1.3615068 ],\n",
              "          [ 1.4004071 ],\n",
              "          ...,\n",
              "          [ 9.258246  ],\n",
              "          [ 9.841749  ],\n",
              "          [ 9.763949  ]],\n",
              "\n",
              "         [[ 1.2837064 ],\n",
              "          [ 1.2837064 ],\n",
              "          [ 1.3226067 ],\n",
              "          ...,\n",
              "          [ 9.258246  ],\n",
              "          [ 9.841749  ],\n",
              "          [ 9.841749  ]],\n",
              "\n",
              "         [[ 1.2837064 ],\n",
              "          [ 1.2837064 ],\n",
              "          [ 1.2837064 ],\n",
              "          ...,\n",
              "          [ 9.841749  ],\n",
              "          [ 9.91955   ],\n",
              "          [ 9.91955   ]],\n",
              "\n",
              "         ...,\n",
              "\n",
              "         [[ 0.89470446],\n",
              "          [ 0.89470446],\n",
              "          [ 0.85580426],\n",
              "          ...,\n",
              "          [ 9.725049  ],\n",
              "          [ 9.802849  ],\n",
              "          [ 9.725049  ]],\n",
              "\n",
              "         [[ 0.89470446],\n",
              "          [ 0.89470446],\n",
              "          [ 0.85580426],\n",
              "          ...,\n",
              "          [ 9.763949  ],\n",
              "          [ 9.686149  ],\n",
              "          [ 9.686149  ]],\n",
              "\n",
              "         [[ 0.85580426],\n",
              "          [ 0.85580426],\n",
              "          [ 0.8169041 ],\n",
              "          ...,\n",
              "          [ 9.763949  ],\n",
              "          [ 9.686149  ],\n",
              "          [ 9.686149  ]]]],\n",
              "\n",
              "\n",
              "\n",
              "       [[[[ 1.3879623 ],\n",
              "          [ 1.3879623 ],\n",
              "          [ 1.3086503 ],\n",
              "          ...,\n",
              "          [10.072641  ],\n",
              "          [10.112297  ],\n",
              "          [10.112297  ]],\n",
              "\n",
              "         [[ 1.3879623 ],\n",
              "          [ 1.3879623 ],\n",
              "          [ 1.3086503 ],\n",
              "          ...,\n",
              "          [10.112297  ],\n",
              "          [ 0.        ],\n",
              "          [ 0.        ]],\n",
              "\n",
              "         [[ 1.3086503 ],\n",
              "          [ 1.3086503 ],\n",
              "          [ 1.3086503 ],\n",
              "          ...,\n",
              "          [10.112297  ],\n",
              "          [10.112297  ],\n",
              "          [10.112297  ]],\n",
              "\n",
              "         ...,\n",
              "\n",
              "         [[ 0.9517456 ],\n",
              "          [ 0.9517456 ],\n",
              "          [ 0.9120896 ],\n",
              "          ...,\n",
              "          [ 9.874361  ],\n",
              "          [ 9.874361  ],\n",
              "          [ 9.874361  ]],\n",
              "\n",
              "         [[ 0.9517456 ],\n",
              "          [ 0.9517456 ],\n",
              "          [ 0.9120896 ],\n",
              "          ...,\n",
              "          [ 9.834705  ],\n",
              "          [ 9.834705  ],\n",
              "          [ 9.834705  ]],\n",
              "\n",
              "         [[ 0.9517456 ],\n",
              "          [ 0.9517456 ],\n",
              "          [ 0.9120896 ],\n",
              "          ...,\n",
              "          [ 9.834705  ],\n",
              "          [ 9.834705  ],\n",
              "          [ 9.834705  ]]],\n",
              "\n",
              "\n",
              "        [[[ 1.3879623 ],\n",
              "          [ 1.3879623 ],\n",
              "          [ 1.2689942 ],\n",
              "          ...,\n",
              "          [10.072641  ],\n",
              "          [10.112297  ],\n",
              "          [10.112297  ]],\n",
              "\n",
              "         [[ 1.3879623 ],\n",
              "          [ 1.3879623 ],\n",
              "          [ 1.2689942 ],\n",
              "          ...,\n",
              "          [10.112297  ],\n",
              "          [ 0.        ],\n",
              "          [ 0.        ]],\n",
              "\n",
              "         [[ 1.3086503 ],\n",
              "          [ 1.3086503 ],\n",
              "          [ 1.3086503 ],\n",
              "          ...,\n",
              "          [10.072641  ],\n",
              "          [10.072641  ],\n",
              "          [10.072641  ]],\n",
              "\n",
              "         ...,\n",
              "\n",
              "         [[ 0.9120896 ],\n",
              "          [ 0.9120896 ],\n",
              "          [ 0.8724335 ],\n",
              "          ...,\n",
              "          [ 9.834705  ],\n",
              "          [ 9.834705  ],\n",
              "          [ 9.795049  ]],\n",
              "\n",
              "         [[ 0.9120896 ],\n",
              "          [ 0.9120896 ],\n",
              "          [ 0.8724335 ],\n",
              "          ...,\n",
              "          [ 9.874361  ],\n",
              "          [ 9.874361  ],\n",
              "          [ 9.834705  ]],\n",
              "\n",
              "         [[ 0.9120896 ],\n",
              "          [ 0.9120896 ],\n",
              "          [ 0.8724335 ],\n",
              "          ...,\n",
              "          [ 9.874361  ],\n",
              "          [ 9.874361  ],\n",
              "          [ 9.834705  ]]],\n",
              "\n",
              "\n",
              "        [[[ 1.3483063 ],\n",
              "          [ 1.3483063 ],\n",
              "          [ 1.3086503 ],\n",
              "          ...,\n",
              "          [10.072641  ],\n",
              "          [ 0.        ],\n",
              "          [ 0.        ]],\n",
              "\n",
              "         [[ 1.3483063 ],\n",
              "          [ 1.3483063 ],\n",
              "          [ 1.3086503 ],\n",
              "          ...,\n",
              "          [10.072641  ],\n",
              "          [ 0.        ],\n",
              "          [ 0.        ]],\n",
              "\n",
              "         [[ 1.2689942 ],\n",
              "          [ 1.2689942 ],\n",
              "          [ 1.2293382 ],\n",
              "          ...,\n",
              "          [10.072641  ],\n",
              "          [10.072641  ],\n",
              "          [10.072641  ]],\n",
              "\n",
              "         ...,\n",
              "\n",
              "         [[ 1.0310577 ],\n",
              "          [ 0.99140173],\n",
              "          [ 0.99140173],\n",
              "          ...,\n",
              "          [ 9.874361  ],\n",
              "          [ 9.874361  ],\n",
              "          [ 9.834705  ]],\n",
              "\n",
              "         [[ 0.99140173],\n",
              "          [ 0.9517456 ],\n",
              "          [ 0.9517456 ],\n",
              "          ...,\n",
              "          [ 9.874361  ],\n",
              "          [ 9.874361  ],\n",
              "          [ 9.834705  ]],\n",
              "\n",
              "         [[ 0.99140173],\n",
              "          [ 0.9517456 ],\n",
              "          [ 0.9517456 ],\n",
              "          ...,\n",
              "          [ 9.874361  ],\n",
              "          [ 9.874361  ],\n",
              "          [ 9.834705  ]]],\n",
              "\n",
              "\n",
              "        ...,\n",
              "\n",
              "\n",
              "        [[[ 1.4276185 ],\n",
              "          [ 1.4276185 ],\n",
              "          [ 1.4276185 ],\n",
              "          ...,\n",
              "          [10.112297  ],\n",
              "          [10.112297  ],\n",
              "          [10.112297  ]],\n",
              "\n",
              "         [[ 1.3879623 ],\n",
              "          [ 1.3879623 ],\n",
              "          [ 1.3879623 ],\n",
              "          ...,\n",
              "          [10.072641  ],\n",
              "          [10.072641  ],\n",
              "          [10.072641  ]],\n",
              "\n",
              "         [[ 1.3483063 ],\n",
              "          [ 1.3483063 ],\n",
              "          [ 1.3086503 ],\n",
              "          ...,\n",
              "          [ 0.        ],\n",
              "          [ 0.        ],\n",
              "          [ 0.        ]],\n",
              "\n",
              "         ...,\n",
              "\n",
              "         [[ 1.0310577 ],\n",
              "          [ 0.99140173],\n",
              "          [ 0.9517456 ],\n",
              "          ...,\n",
              "          [ 9.834705  ],\n",
              "          [ 9.834705  ],\n",
              "          [ 9.834705  ]],\n",
              "\n",
              "         [[ 0.99140173],\n",
              "          [ 0.99140173],\n",
              "          [ 0.99140173],\n",
              "          ...,\n",
              "          [ 9.834705  ],\n",
              "          [ 9.834705  ],\n",
              "          [ 9.834705  ]],\n",
              "\n",
              "         [[ 0.99140173],\n",
              "          [ 0.99140173],\n",
              "          [ 0.99140173],\n",
              "          ...,\n",
              "          [ 9.834705  ],\n",
              "          [ 9.834705  ],\n",
              "          [ 9.834705  ]]],\n",
              "\n",
              "\n",
              "        [[[ 1.4276185 ],\n",
              "          [ 1.4276185 ],\n",
              "          [ 1.4276185 ],\n",
              "          ...,\n",
              "          [10.112297  ],\n",
              "          [ 0.        ],\n",
              "          [ 0.        ]],\n",
              "\n",
              "         [[ 1.3879623 ],\n",
              "          [ 1.3879623 ],\n",
              "          [ 1.3879623 ],\n",
              "          ...,\n",
              "          [10.072641  ],\n",
              "          [10.112297  ],\n",
              "          [10.112297  ]],\n",
              "\n",
              "         [[ 1.3086503 ],\n",
              "          [ 1.3086503 ],\n",
              "          [ 1.2689942 ],\n",
              "          ...,\n",
              "          [ 0.        ],\n",
              "          [ 0.        ],\n",
              "          [ 0.        ]],\n",
              "\n",
              "         ...,\n",
              "\n",
              "         [[ 1.0310577 ],\n",
              "          [ 0.99140173],\n",
              "          [ 0.9517456 ],\n",
              "          ...,\n",
              "          [ 9.795049  ],\n",
              "          [ 9.795049  ],\n",
              "          [ 9.795049  ]],\n",
              "\n",
              "         [[ 0.99140173],\n",
              "          [ 0.99140173],\n",
              "          [ 0.99140173],\n",
              "          ...,\n",
              "          [ 9.795049  ],\n",
              "          [ 9.795049  ],\n",
              "          [ 9.795049  ]],\n",
              "\n",
              "         [[ 0.99140173],\n",
              "          [ 0.99140173],\n",
              "          [ 0.99140173],\n",
              "          ...,\n",
              "          [ 9.795049  ],\n",
              "          [ 9.795049  ],\n",
              "          [ 9.795049  ]]],\n",
              "\n",
              "\n",
              "        [[[ 1.3483063 ],\n",
              "          [ 1.3483063 ],\n",
              "          [ 1.3879623 ],\n",
              "          ...,\n",
              "          [ 0.        ],\n",
              "          [ 0.        ],\n",
              "          [ 0.        ]],\n",
              "\n",
              "         [[ 1.3086503 ],\n",
              "          [ 1.3086503 ],\n",
              "          [ 1.3483063 ],\n",
              "          ...,\n",
              "          [10.112297  ],\n",
              "          [10.112297  ],\n",
              "          [10.112297  ]],\n",
              "\n",
              "         [[ 1.3483063 ],\n",
              "          [ 1.3483063 ],\n",
              "          [ 1.3086503 ],\n",
              "          ...,\n",
              "          [10.112297  ],\n",
              "          [10.112297  ],\n",
              "          [10.112297  ]],\n",
              "\n",
              "         ...,\n",
              "\n",
              "         [[ 1.0310577 ],\n",
              "          [ 0.99140173],\n",
              "          [ 0.9517456 ],\n",
              "          ...,\n",
              "          [ 9.795049  ],\n",
              "          [ 9.795049  ],\n",
              "          [ 9.795049  ]],\n",
              "\n",
              "         [[ 0.99140173],\n",
              "          [ 0.99140173],\n",
              "          [ 0.99140173],\n",
              "          ...,\n",
              "          [ 9.795049  ],\n",
              "          [ 9.795049  ],\n",
              "          [ 9.795049  ]],\n",
              "\n",
              "         [[ 0.9517456 ],\n",
              "          [ 0.9517456 ],\n",
              "          [ 0.9517456 ],\n",
              "          ...,\n",
              "          [ 9.795049  ],\n",
              "          [ 9.795049  ],\n",
              "          [ 9.795049  ]]]]], dtype=float32)"
            ]
          },
          "execution_count": 29,
          "metadata": {},
          "output_type": "execute_result"
        }
      ],
      "source": [
        "val = sample.next(); val[0]"
      ]
    },
    {
      "cell_type": "code",
      "execution_count": 30,
      "id": "acf5eb4f-a0da-4a9a-bf24-af13e9cc2fbe",
      "metadata": {
        "colab": {
          "base_uri": "https://localhost:8080/"
        },
        "id": "acf5eb4f-a0da-4a9a-bf24-af13e9cc2fbe",
        "outputId": "2b7ce709-6400-402c-ab9d-0e4c5739cafc",
        "tags": []
      },
      "outputs": [
        {
          "name": "stderr",
          "output_type": "stream",
          "text": [
            "Lossy conversion from float32 to uint8. Range [0.0, 9.919549942016602]. Convert image to uint8 prior to saving to suppress this warning.\n",
            "Lossy conversion from float32 to uint8. Range [0.0, 9.919549942016602]. Convert image to uint8 prior to saving to suppress this warning.\n",
            "Lossy conversion from float32 to uint8. Range [0.0, 9.919549942016602]. Convert image to uint8 prior to saving to suppress this warning.\n",
            "Lossy conversion from float32 to uint8. Range [0.0, 9.919549942016602]. Convert image to uint8 prior to saving to suppress this warning.\n",
            "Lossy conversion from float32 to uint8. Range [0.0, 9.919549942016602]. Convert image to uint8 prior to saving to suppress this warning.\n",
            "Lossy conversion from float32 to uint8. Range [0.0, 9.919549942016602]. Convert image to uint8 prior to saving to suppress this warning.\n",
            "Lossy conversion from float32 to uint8. Range [0.0, 9.919549942016602]. Convert image to uint8 prior to saving to suppress this warning.\n",
            "Lossy conversion from float32 to uint8. Range [0.0, 9.919549942016602]. Convert image to uint8 prior to saving to suppress this warning.\n",
            "Lossy conversion from float32 to uint8. Range [0.0, 9.919549942016602]. Convert image to uint8 prior to saving to suppress this warning.\n",
            "Lossy conversion from float32 to uint8. Range [0.0, 9.919549942016602]. Convert image to uint8 prior to saving to suppress this warning.\n",
            "Lossy conversion from float32 to uint8. Range [0.0, 9.919549942016602]. Convert image to uint8 prior to saving to suppress this warning.\n",
            "Lossy conversion from float32 to uint8. Range [0.0, 9.919549942016602]. Convert image to uint8 prior to saving to suppress this warning.\n",
            "Lossy conversion from float32 to uint8. Range [0.0, 9.919549942016602]. Convert image to uint8 prior to saving to suppress this warning.\n",
            "Lossy conversion from float32 to uint8. Range [0.0, 9.919549942016602]. Convert image to uint8 prior to saving to suppress this warning.\n",
            "Lossy conversion from float32 to uint8. Range [0.0, 9.919549942016602]. Convert image to uint8 prior to saving to suppress this warning.\n",
            "Lossy conversion from float32 to uint8. Range [0.0, 9.919549942016602]. Convert image to uint8 prior to saving to suppress this warning.\n",
            "Lossy conversion from float32 to uint8. Range [0.0, 9.919549942016602]. Convert image to uint8 prior to saving to suppress this warning.\n",
            "Lossy conversion from float32 to uint8. Range [0.0, 9.919549942016602]. Convert image to uint8 prior to saving to suppress this warning.\n",
            "Lossy conversion from float32 to uint8. Range [0.0, 9.919549942016602]. Convert image to uint8 prior to saving to suppress this warning.\n",
            "Lossy conversion from float32 to uint8. Range [0.0, 9.919549942016602]. Convert image to uint8 prior to saving to suppress this warning.\n",
            "Lossy conversion from float32 to uint8. Range [0.0, 9.919549942016602]. Convert image to uint8 prior to saving to suppress this warning.\n",
            "Lossy conversion from float32 to uint8. Range [0.0, 9.919549942016602]. Convert image to uint8 prior to saving to suppress this warning.\n",
            "Lossy conversion from float32 to uint8. Range [0.0, 9.919549942016602]. Convert image to uint8 prior to saving to suppress this warning.\n",
            "Lossy conversion from float32 to uint8. Range [0.0, 9.919549942016602]. Convert image to uint8 prior to saving to suppress this warning.\n",
            "Lossy conversion from float32 to uint8. Range [0.0, 9.919549942016602]. Convert image to uint8 prior to saving to suppress this warning.\n",
            "Lossy conversion from float32 to uint8. Range [0.0, 9.919549942016602]. Convert image to uint8 prior to saving to suppress this warning.\n",
            "Lossy conversion from float32 to uint8. Range [0.0, 9.919549942016602]. Convert image to uint8 prior to saving to suppress this warning.\n",
            "Lossy conversion from float32 to uint8. Range [0.0, 9.919549942016602]. Convert image to uint8 prior to saving to suppress this warning.\n",
            "Lossy conversion from float32 to uint8. Range [0.0, 9.919549942016602]. Convert image to uint8 prior to saving to suppress this warning.\n",
            "Lossy conversion from float32 to uint8. Range [0.0, 9.919549942016602]. Convert image to uint8 prior to saving to suppress this warning.\n",
            "Lossy conversion from float32 to uint8. Range [0.0, 9.919549942016602]. Convert image to uint8 prior to saving to suppress this warning.\n",
            "Lossy conversion from float32 to uint8. Range [0.0, 9.919549942016602]. Convert image to uint8 prior to saving to suppress this warning.\n",
            "Lossy conversion from float32 to uint8. Range [0.0, 9.919549942016602]. Convert image to uint8 prior to saving to suppress this warning.\n",
            "Lossy conversion from float32 to uint8. Range [0.0, 9.919549942016602]. Convert image to uint8 prior to saving to suppress this warning.\n",
            "Lossy conversion from float32 to uint8. Range [0.0, 9.919549942016602]. Convert image to uint8 prior to saving to suppress this warning.\n",
            "Lossy conversion from float32 to uint8. Range [0.0, 9.919549942016602]. Convert image to uint8 prior to saving to suppress this warning.\n",
            "Lossy conversion from float32 to uint8. Range [0.0, 9.919549942016602]. Convert image to uint8 prior to saving to suppress this warning.\n",
            "Lossy conversion from float32 to uint8. Range [0.0, 9.919549942016602]. Convert image to uint8 prior to saving to suppress this warning.\n",
            "Lossy conversion from float32 to uint8. Range [0.0, 9.919549942016602]. Convert image to uint8 prior to saving to suppress this warning.\n",
            "Lossy conversion from float32 to uint8. Range [0.0, 9.919549942016602]. Convert image to uint8 prior to saving to suppress this warning.\n",
            "Lossy conversion from float32 to uint8. Range [0.0, 9.919549942016602]. Convert image to uint8 prior to saving to suppress this warning.\n",
            "Lossy conversion from float32 to uint8. Range [0.0, 9.919549942016602]. Convert image to uint8 prior to saving to suppress this warning.\n",
            "Lossy conversion from float32 to uint8. Range [0.0, 9.919549942016602]. Convert image to uint8 prior to saving to suppress this warning.\n",
            "Lossy conversion from float32 to uint8. Range [0.0, 9.919549942016602]. Convert image to uint8 prior to saving to suppress this warning.\n",
            "Lossy conversion from float32 to uint8. Range [0.0, 9.919549942016602]. Convert image to uint8 prior to saving to suppress this warning.\n",
            "Lossy conversion from float32 to uint8. Range [0.0, 9.919549942016602]. Convert image to uint8 prior to saving to suppress this warning.\n",
            "Lossy conversion from float32 to uint8. Range [0.0, 9.919549942016602]. Convert image to uint8 prior to saving to suppress this warning.\n",
            "Lossy conversion from float32 to uint8. Range [0.0, 9.919549942016602]. Convert image to uint8 prior to saving to suppress this warning.\n",
            "Lossy conversion from float32 to uint8. Range [0.0, 9.919549942016602]. Convert image to uint8 prior to saving to suppress this warning.\n",
            "Lossy conversion from float32 to uint8. Range [0.0, 9.919549942016602]. Convert image to uint8 prior to saving to suppress this warning.\n",
            "Lossy conversion from float32 to uint8. Range [0.0, 9.919549942016602]. Convert image to uint8 prior to saving to suppress this warning.\n",
            "Lossy conversion from float32 to uint8. Range [0.0, 9.919549942016602]. Convert image to uint8 prior to saving to suppress this warning.\n",
            "Lossy conversion from float32 to uint8. Range [0.0, 9.919549942016602]. Convert image to uint8 prior to saving to suppress this warning.\n",
            "Lossy conversion from float32 to uint8. Range [0.0, 9.919549942016602]. Convert image to uint8 prior to saving to suppress this warning.\n",
            "Lossy conversion from float32 to uint8. Range [0.0, 9.919549942016602]. Convert image to uint8 prior to saving to suppress this warning.\n",
            "Lossy conversion from float32 to uint8. Range [0.0, 9.919549942016602]. Convert image to uint8 prior to saving to suppress this warning.\n",
            "Lossy conversion from float32 to uint8. Range [0.0, 9.919549942016602]. Convert image to uint8 prior to saving to suppress this warning.\n",
            "Lossy conversion from float32 to uint8. Range [0.0, 9.919549942016602]. Convert image to uint8 prior to saving to suppress this warning.\n",
            "Lossy conversion from float32 to uint8. Range [0.0, 9.919549942016602]. Convert image to uint8 prior to saving to suppress this warning.\n",
            "Lossy conversion from float32 to uint8. Range [0.0, 9.919549942016602]. Convert image to uint8 prior to saving to suppress this warning.\n",
            "Lossy conversion from float32 to uint8. Range [0.0, 9.919549942016602]. Convert image to uint8 prior to saving to suppress this warning.\n",
            "Lossy conversion from float32 to uint8. Range [0.0, 9.919549942016602]. Convert image to uint8 prior to saving to suppress this warning.\n",
            "Lossy conversion from float32 to uint8. Range [0.0, 9.919549942016602]. Convert image to uint8 prior to saving to suppress this warning.\n",
            "Lossy conversion from float32 to uint8. Range [0.0, 9.919549942016602]. Convert image to uint8 prior to saving to suppress this warning.\n",
            "Lossy conversion from float32 to uint8. Range [0.0, 9.919549942016602]. Convert image to uint8 prior to saving to suppress this warning.\n",
            "Lossy conversion from float32 to uint8. Range [0.0, 9.919549942016602]. Convert image to uint8 prior to saving to suppress this warning.\n",
            "Lossy conversion from float32 to uint8. Range [0.0, 9.919549942016602]. Convert image to uint8 prior to saving to suppress this warning.\n",
            "Lossy conversion from float32 to uint8. Range [0.0, 9.919549942016602]. Convert image to uint8 prior to saving to suppress this warning.\n",
            "Lossy conversion from float32 to uint8. Range [0.0, 9.919549942016602]. Convert image to uint8 prior to saving to suppress this warning.\n",
            "Lossy conversion from float32 to uint8. Range [0.0, 9.919549942016602]. Convert image to uint8 prior to saving to suppress this warning.\n",
            "Lossy conversion from float32 to uint8. Range [0.0, 9.919549942016602]. Convert image to uint8 prior to saving to suppress this warning.\n",
            "Lossy conversion from float32 to uint8. Range [0.0, 9.919549942016602]. Convert image to uint8 prior to saving to suppress this warning.\n",
            "Lossy conversion from float32 to uint8. Range [0.0, 9.919549942016602]. Convert image to uint8 prior to saving to suppress this warning.\n",
            "Lossy conversion from float32 to uint8. Range [0.0, 9.919549942016602]. Convert image to uint8 prior to saving to suppress this warning.\n",
            "Lossy conversion from float32 to uint8. Range [0.0, 9.919549942016602]. Convert image to uint8 prior to saving to suppress this warning.\n"
          ]
        }
      ],
      "source": [
        "imageio.mimsave('./animation.gif', val[0][0], fps=10)"
      ]
    },
    {
      "cell_type": "code",
      "execution_count": 31,
      "id": "c33a87a2-d5e0-4ec9-b174-73ebf41bf03a",
      "metadata": {
        "colab": {
          "base_uri": "https://localhost:8080/",
          "height": 244
        },
        "id": "c33a87a2-d5e0-4ec9-b174-73ebf41bf03a",
        "outputId": "1b7cc028-1990-4714-8d7e-fda85218c0d5",
        "tags": []
      },
      "outputs": [
        {
          "data": {
            "text/plain": [
              "<matplotlib.image.AxesImage at 0x1b7e46ec440>"
            ]
          },
          "execution_count": 31,
          "metadata": {},
          "output_type": "execute_result"
        },
        {
          "data": {
            "image/png": "[encoded data removed]",
            "text/plain": [
              "<Figure size 640x480 with 1 Axes>"
            ]
          },
          "metadata": {},
          "output_type": "display_data"
        }
      ],
      "source": [
        "# 0:videos, 0: 1st video out of the batch,  0: return the first frame in the video\n",
        "plt.imshow(val[0][0][35])"
      ]
    },
    {
      "cell_type": "code",
      "execution_count": 32,
      "id": "84593332-133c-4205-b7a6-8e235d5e2b3b",
      "metadata": {
        "colab": {
          "base_uri": "https://localhost:8080/"
        },
        "id": "84593332-133c-4205-b7a6-8e235d5e2b3b",
        "outputId": "69f24afc-2cb9-4d07-9d93-3b4e1fde5046",
        "tags": []
      },
      "outputs": [
        {
          "data": {
            "text/plain": [
              "<tf.Tensor: shape=(), dtype=string, numpy=b'set green with x three soon'>"
            ]
          },
          "execution_count": 32,
          "metadata": {},
          "output_type": "execute_result"
        }
      ],
      "source": [
        "tf.strings.reduce_join([num_to_char(word) for word in val[1][0]])"
      ]
    },
    {
      "cell_type": "markdown",
      "id": "0f47733c-83bc-465c-b118-b198b492ad37",
      "metadata": {
        "id": "0f47733c-83bc-465c-b118-b198b492ad37",
        "tags": []
      },
      "source": [
        "# 3. Design the Deep Neural Network"
      ]
    },
    {
      "cell_type": "code",
      "execution_count": 33,
      "id": "d8e9a497-191b-4842-afbd-26f5e13c43ba",
      "metadata": {
        "id": "d8e9a497-191b-4842-afbd-26f5e13c43ba",
        "tags": []
      },
      "outputs": [],
      "source": [
        "from tensorflow import keras\n",
        "# from tensorflow.keras.models import Sequential\n",
        "# from tensorflow.keras.layers import Conv3D, LSTM, Dense, Dropout, Bidirectional, MaxPool3D, Activation, Reshape, SpatialDropout3D, BatchNormalization, TimeDistributed, Flatten\n",
        "# from tensorflow.keras.optimizers import Adam\n",
        "# from tensorflow.keras.callbacks import ModelCheckpoint, LearningRateScheduler\n",
        "\n",
        "from keras.models import Sequential\n",
        "from keras.layers import Conv3D, LSTM, Dense, Dropout, Bidirectional, MaxPool3D, Activation, Reshape, SpatialDropout3D, BatchNormalization, TimeDistributed, Flatten\n",
        "from keras.optimizers import Adam\n",
        "from keras.callbacks import ModelCheckpoint, LearningRateScheduler"
      ]
    },
    {
      "cell_type": "code",
      "execution_count": 34,
      "id": "5d376ebe",
      "metadata": {},
      "outputs": [],
      "source": [
        "from keras.layers import LSTM, Bidirectional\n",
        "from keras.initializers import Orthogonal"
      ]
    },
    {
      "cell_type": "code",
      "execution_count": 35,
      "id": "3f753ed2-70b9-4236-8c1c-08ca065dc8bf",
      "metadata": {
        "colab": {
          "base_uri": "https://localhost:8080/"
        },
        "id": "3f753ed2-70b9-4236-8c1c-08ca065dc8bf",
        "outputId": "b06442c3-cc68-4c88-d5e8-c9a915fc8b96"
      },
      "outputs": [
        {
          "data": {
            "text/plain": [
              "(75, 46, 140, 1)"
            ]
          },
          "execution_count": 35,
          "metadata": {},
          "output_type": "execute_result"
        }
      ],
      "source": [
        "data.as_numpy_iterator().next()[0][0].shape"
      ]
    },
    {
      "cell_type": "code",
      "execution_count": 36,
      "id": "f9171056-a352-491a-9ed9-92b28ced268e",
      "metadata": {
        "id": "f9171056-a352-491a-9ed9-92b28ced268e",
        "tags": []
      },
      "outputs": [
        {
          "name": "stderr",
          "output_type": "stream",
          "text": [
            "c:\\Users\\lhdto\\AppData\\Local\\Programs\\Python\\Python312\\Lib\\site-packages\\keras\\src\\layers\\convolutional\\base_conv.py:99: UserWarning: Do not pass an `input_shape`/`input_dim` argument to a layer. When using Sequential models, prefer using an `Input(shape)` object as the first layer in the model instead.\n",
            "  super().__init__(\n"
          ]
        }
      ],
      "source": [
        "model = Sequential()\n",
        "model.add(Conv3D(128, 3, input_shape=(75,46,140,1), padding='same'))\n",
        "model.add(Activation('relu'))\n",
        "model.add(MaxPool3D((1,2,2)))\n",
        "\n",
        "model.add(Conv3D(256, 3, padding='same'))\n",
        "model.add(Activation('relu'))\n",
        "model.add(MaxPool3D((1,2,2)))\n",
        "\n",
        "model.add(Conv3D(75, 3, padding='same'))\n",
        "model.add(Activation('relu'))\n",
        "model.add(MaxPool3D((1,2,2)))\n",
        "\n",
        "\n",
        "model.add(TimeDistributed(Flatten()))\n",
        "\n",
        "model.add(Bidirectional(LSTM(128, return_sequences=True)))\n",
        "\n",
        "# # model.add(Bidirectional(LSTM(128, kernel_initializer='Orthogonal', return_sequences=True)))\n",
        "# model.add(Bidirectional(LSTM(128, kernel_initializer=Orthogonal(), return_sequences=True)))\n",
        "# model.add(Dropout(.5))\n",
        "\n",
        "# # model.add(Bidirectional(LSTM(128, kernel_initializer='Orthogonal', return_sequences=True)))\n",
        "# model.add(Bidirectional(LSTM(128, kernel_initializer=Orthogonal(), return_sequences=True)))\n",
        "# model.add(Dropout(.5))\n",
        "\n",
        "model.add(Dense(char_to_num.vocabulary_size()+1, kernel_initializer='he_normal', activation='softmax'))"
      ]
    },
    {
      "cell_type": "code",
      "execution_count": 37,
      "id": "78851825-2bcd-42a9-b7f2-28bb5a6bf43a",
      "metadata": {
        "colab": {
          "base_uri": "https://localhost:8080/"
        },
        "collapsed": true,
        "id": "78851825-2bcd-42a9-b7f2-28bb5a6bf43a",
        "jupyter": {
          "outputs_hidden": true
        },
        "outputId": "90ebbd81-10a8-4674-8551-7b3cd530381a",
        "tags": []
      },
      "outputs": [
        {
          "data": {
            "text/html": [
              "<pre style=\"white-space:pre;overflow-x:auto;line-height:normal;font-family:Menlo,'DejaVu Sans Mono',consolas,'Courier New',monospace\"><span style=\"font-weight: bold\">Model: \"sequential\"</span>\n",
              "</pre>\n"
            ],
            "text/plain": [
              "\u001b[1mModel: \"sequential\"\u001b[0m\n"
            ]
          },
          "metadata": {},
          "output_type": "display_data"
        },
        {
          "data": {
            "text/html": [
              "<pre style=\"white-space:pre;overflow-x:auto;line-height:normal;font-family:Menlo,'DejaVu Sans Mono',consolas,'Courier New',monospace\">┏━━━━━━━━━━━━━━━━━━━━━━━━━━━━━━━━━┳━━━━━━━━━━━━━━━━━━━━━━━━┳━━━━━━━━━━━━━━━┓\n",
              "┃<span style=\"font-weight: bold\"> Layer (type)                    </span>┃<span style=\"font-weight: bold\"> Output Shape           </span>┃<span style=\"font-weight: bold\">       Param # </span>┃\n",
              "┡━━━━━━━━━━━━━━━━━━━━━━━━━━━━━━━━━╇━━━━━━━━━━━━━━━━━━━━━━━━╇━━━━━━━━━━━━━━━┩\n",
              "│ conv3d (<span style=\"color: #0087ff; text-decoration-color: #0087ff\">Conv3D</span>)                 │ (<span style=\"color: #00d7ff; text-decoration-color: #00d7ff\">None</span>, <span style=\"color: #00af00; text-decoration-color: #00af00\">75</span>, <span style=\"color: #00af00; text-decoration-color: #00af00\">46</span>, <span style=\"color: #00af00; text-decoration-color: #00af00\">140</span>,    │         <span style=\"color: #00af00; text-decoration-color: #00af00\">3,584</span> │\n",
              "│                                 │ <span style=\"color: #00af00; text-decoration-color: #00af00\">128</span>)                   │               │\n",
              "├─────────────────────────────────┼────────────────────────┼───────────────┤\n",
              "│ activation (<span style=\"color: #0087ff; text-decoration-color: #0087ff\">Activation</span>)         │ (<span style=\"color: #00d7ff; text-decoration-color: #00d7ff\">None</span>, <span style=\"color: #00af00; text-decoration-color: #00af00\">75</span>, <span style=\"color: #00af00; text-decoration-color: #00af00\">46</span>, <span style=\"color: #00af00; text-decoration-color: #00af00\">140</span>,    │             <span style=\"color: #00af00; text-decoration-color: #00af00\">0</span> │\n",
              "│                                 │ <span style=\"color: #00af00; text-decoration-color: #00af00\">128</span>)                   │               │\n",
              "├─────────────────────────────────┼────────────────────────┼───────────────┤\n",
              "│ max_pooling3d (<span style=\"color: #0087ff; text-decoration-color: #0087ff\">MaxPooling3D</span>)    │ (<span style=\"color: #00d7ff; text-decoration-color: #00d7ff\">None</span>, <span style=\"color: #00af00; text-decoration-color: #00af00\">75</span>, <span style=\"color: #00af00; text-decoration-color: #00af00\">23</span>, <span style=\"color: #00af00; text-decoration-color: #00af00\">70</span>,     │             <span style=\"color: #00af00; text-decoration-color: #00af00\">0</span> │\n",
              "│                                 │ <span style=\"color: #00af00; text-decoration-color: #00af00\">128</span>)                   │               │\n",
              "├─────────────────────────────────┼────────────────────────┼───────────────┤\n",
              "│ conv3d_1 (<span style=\"color: #0087ff; text-decoration-color: #0087ff\">Conv3D</span>)               │ (<span style=\"color: #00d7ff; text-decoration-color: #00d7ff\">None</span>, <span style=\"color: #00af00; text-decoration-color: #00af00\">75</span>, <span style=\"color: #00af00; text-decoration-color: #00af00\">23</span>, <span style=\"color: #00af00; text-decoration-color: #00af00\">70</span>,     │       <span style=\"color: #00af00; text-decoration-color: #00af00\">884,992</span> │\n",
              "│                                 │ <span style=\"color: #00af00; text-decoration-color: #00af00\">256</span>)                   │               │\n",
              "├─────────────────────────────────┼────────────────────────┼───────────────┤\n",
              "│ activation_1 (<span style=\"color: #0087ff; text-decoration-color: #0087ff\">Activation</span>)       │ (<span style=\"color: #00d7ff; text-decoration-color: #00d7ff\">None</span>, <span style=\"color: #00af00; text-decoration-color: #00af00\">75</span>, <span style=\"color: #00af00; text-decoration-color: #00af00\">23</span>, <span style=\"color: #00af00; text-decoration-color: #00af00\">70</span>,     │             <span style=\"color: #00af00; text-decoration-color: #00af00\">0</span> │\n",
              "│                                 │ <span style=\"color: #00af00; text-decoration-color: #00af00\">256</span>)                   │               │\n",
              "├─────────────────────────────────┼────────────────────────┼───────────────┤\n",
              "│ max_pooling3d_1 (<span style=\"color: #0087ff; text-decoration-color: #0087ff\">MaxPooling3D</span>)  │ (<span style=\"color: #00d7ff; text-decoration-color: #00d7ff\">None</span>, <span style=\"color: #00af00; text-decoration-color: #00af00\">75</span>, <span style=\"color: #00af00; text-decoration-color: #00af00\">11</span>, <span style=\"color: #00af00; text-decoration-color: #00af00\">35</span>,     │             <span style=\"color: #00af00; text-decoration-color: #00af00\">0</span> │\n",
              "│                                 │ <span style=\"color: #00af00; text-decoration-color: #00af00\">256</span>)                   │               │\n",
              "├─────────────────────────────────┼────────────────────────┼───────────────┤\n",
              "│ conv3d_2 (<span style=\"color: #0087ff; text-decoration-color: #0087ff\">Conv3D</span>)               │ (<span style=\"color: #00d7ff; text-decoration-color: #00d7ff\">None</span>, <span style=\"color: #00af00; text-decoration-color: #00af00\">75</span>, <span style=\"color: #00af00; text-decoration-color: #00af00\">11</span>, <span style=\"color: #00af00; text-decoration-color: #00af00\">35</span>, <span style=\"color: #00af00; text-decoration-color: #00af00\">75</span>) │       <span style=\"color: #00af00; text-decoration-color: #00af00\">518,475</span> │\n",
              "├─────────────────────────────────┼────────────────────────┼───────────────┤\n",
              "│ activation_2 (<span style=\"color: #0087ff; text-decoration-color: #0087ff\">Activation</span>)       │ (<span style=\"color: #00d7ff; text-decoration-color: #00d7ff\">None</span>, <span style=\"color: #00af00; text-decoration-color: #00af00\">75</span>, <span style=\"color: #00af00; text-decoration-color: #00af00\">11</span>, <span style=\"color: #00af00; text-decoration-color: #00af00\">35</span>, <span style=\"color: #00af00; text-decoration-color: #00af00\">75</span>) │             <span style=\"color: #00af00; text-decoration-color: #00af00\">0</span> │\n",
              "├─────────────────────────────────┼────────────────────────┼───────────────┤\n",
              "│ max_pooling3d_2 (<span style=\"color: #0087ff; text-decoration-color: #0087ff\">MaxPooling3D</span>)  │ (<span style=\"color: #00d7ff; text-decoration-color: #00d7ff\">None</span>, <span style=\"color: #00af00; text-decoration-color: #00af00\">75</span>, <span style=\"color: #00af00; text-decoration-color: #00af00\">5</span>, <span style=\"color: #00af00; text-decoration-color: #00af00\">17</span>, <span style=\"color: #00af00; text-decoration-color: #00af00\">75</span>)  │             <span style=\"color: #00af00; text-decoration-color: #00af00\">0</span> │\n",
              "├─────────────────────────────────┼────────────────────────┼───────────────┤\n",
              "│ time_distributed                │ (<span style=\"color: #00d7ff; text-decoration-color: #00d7ff\">None</span>, <span style=\"color: #00af00; text-decoration-color: #00af00\">75</span>, <span style=\"color: #00af00; text-decoration-color: #00af00\">6375</span>)       │             <span style=\"color: #00af00; text-decoration-color: #00af00\">0</span> │\n",
              "│ (<span style=\"color: #0087ff; text-decoration-color: #0087ff\">TimeDistributed</span>)               │                        │               │\n",
              "├─────────────────────────────────┼────────────────────────┼───────────────┤\n",
              "│ bidirectional (<span style=\"color: #0087ff; text-decoration-color: #0087ff\">Bidirectional</span>)   │ (<span style=\"color: #00d7ff; text-decoration-color: #00d7ff\">None</span>, <span style=\"color: #00af00; text-decoration-color: #00af00\">75</span>, <span style=\"color: #00af00; text-decoration-color: #00af00\">256</span>)        │     <span style=\"color: #00af00; text-decoration-color: #00af00\">6,660,096</span> │\n",
              "├─────────────────────────────────┼────────────────────────┼───────────────┤\n",
              "│ dense (<span style=\"color: #0087ff; text-decoration-color: #0087ff\">Dense</span>)                   │ (<span style=\"color: #00d7ff; text-decoration-color: #00d7ff\">None</span>, <span style=\"color: #00af00; text-decoration-color: #00af00\">75</span>, <span style=\"color: #00af00; text-decoration-color: #00af00\">41</span>)         │        <span style=\"color: #00af00; text-decoration-color: #00af00\">10,537</span> │\n",
              "└─────────────────────────────────┴────────────────────────┴───────────────┘\n",
              "</pre>\n"
            ],
            "text/plain": [
              "┏━━━━━━━━━━━━━━━━━━━━━━━━━━━━━━━━━┳━━━━━━━━━━━━━━━━━━━━━━━━┳━━━━━━━━━━━━━━━┓\n",
              "┃\u001b[1m \u001b[0m\u001b[1mLayer (type)                   \u001b[0m\u001b[1m \u001b[0m┃\u001b[1m \u001b[0m\u001b[1mOutput Shape          \u001b[0m\u001b[1m \u001b[0m┃\u001b[1m \u001b[0m\u001b[1m      Param #\u001b[0m\u001b[1m \u001b[0m┃\n",
              "┡━━━━━━━━━━━━━━━━━━━━━━━━━━━━━━━━━╇━━━━━━━━━━━━━━━━━━━━━━━━╇━━━━━━━━━━━━━━━┩\n",
              "│ conv3d (\u001b[38;5;33mConv3D\u001b[0m)                 │ (\u001b[38;5;45mNone\u001b[0m, \u001b[38;5;34m75\u001b[0m, \u001b[38;5;34m46\u001b[0m, \u001b[38;5;34m140\u001b[0m,    │         \u001b[38;5;34m3,584\u001b[0m │\n",
              "│                                 │ \u001b[38;5;34m128\u001b[0m)                   │               │\n",
              "├─────────────────────────────────┼────────────────────────┼───────────────┤\n",
              "│ activation (\u001b[38;5;33mActivation\u001b[0m)         │ (\u001b[38;5;45mNone\u001b[0m, \u001b[38;5;34m75\u001b[0m, \u001b[38;5;34m46\u001b[0m, \u001b[38;5;34m140\u001b[0m,    │             \u001b[38;5;34m0\u001b[0m │\n",
              "│                                 │ \u001b[38;5;34m128\u001b[0m)                   │               │\n",
              "├─────────────────────────────────┼────────────────────────┼───────────────┤\n",
              "│ max_pooling3d (\u001b[38;5;33mMaxPooling3D\u001b[0m)    │ (\u001b[38;5;45mNone\u001b[0m, \u001b[38;5;34m75\u001b[0m, \u001b[38;5;34m23\u001b[0m, \u001b[38;5;34m70\u001b[0m,     │             \u001b[38;5;34m0\u001b[0m │\n",
              "│                                 │ \u001b[38;5;34m128\u001b[0m)                   │               │\n",
              "├─────────────────────────────────┼────────────────────────┼───────────────┤\n",
              "│ conv3d_1 (\u001b[38;5;33mConv3D\u001b[0m)               │ (\u001b[38;5;45mNone\u001b[0m, \u001b[38;5;34m75\u001b[0m, \u001b[38;5;34m23\u001b[0m, \u001b[38;5;34m70\u001b[0m,     │       \u001b[38;5;34m884,992\u001b[0m │\n",
              "│                                 │ \u001b[38;5;34m256\u001b[0m)                   │               │\n",
              "├─────────────────────────────────┼────────────────────────┼───────────────┤\n",
              "│ activation_1 (\u001b[38;5;33mActivation\u001b[0m)       │ (\u001b[38;5;45mNone\u001b[0m, \u001b[38;5;34m75\u001b[0m, \u001b[38;5;34m23\u001b[0m, \u001b[38;5;34m70\u001b[0m,     │             \u001b[38;5;34m0\u001b[0m │\n",
              "│                                 │ \u001b[38;5;34m256\u001b[0m)                   │               │\n",
              "├─────────────────────────────────┼────────────────────────┼───────────────┤\n",
              "│ max_pooling3d_1 (\u001b[38;5;33mMaxPooling3D\u001b[0m)  │ (\u001b[38;5;45mNone\u001b[0m, \u001b[38;5;34m75\u001b[0m, \u001b[38;5;34m11\u001b[0m, \u001b[38;5;34m35\u001b[0m,     │             \u001b[38;5;34m0\u001b[0m │\n",
              "│                                 │ \u001b[38;5;34m256\u001b[0m)                   │               │\n",
              "├─────────────────────────────────┼────────────────────────┼───────────────┤\n",
              "│ conv3d_2 (\u001b[38;5;33mConv3D\u001b[0m)               │ (\u001b[38;5;45mNone\u001b[0m, \u001b[38;5;34m75\u001b[0m, \u001b[38;5;34m11\u001b[0m, \u001b[38;5;34m35\u001b[0m, \u001b[38;5;34m75\u001b[0m) │       \u001b[38;5;34m518,475\u001b[0m │\n",
              "├─────────────────────────────────┼────────────────────────┼───────────────┤\n",
              "│ activation_2 (\u001b[38;5;33mActivation\u001b[0m)       │ (\u001b[38;5;45mNone\u001b[0m, \u001b[38;5;34m75\u001b[0m, \u001b[38;5;34m11\u001b[0m, \u001b[38;5;34m35\u001b[0m, \u001b[38;5;34m75\u001b[0m) │             \u001b[38;5;34m0\u001b[0m │\n",
              "├─────────────────────────────────┼────────────────────────┼───────────────┤\n",
              "│ max_pooling3d_2 (\u001b[38;5;33mMaxPooling3D\u001b[0m)  │ (\u001b[38;5;45mNone\u001b[0m, \u001b[38;5;34m75\u001b[0m, \u001b[38;5;34m5\u001b[0m, \u001b[38;5;34m17\u001b[0m, \u001b[38;5;34m75\u001b[0m)  │             \u001b[38;5;34m0\u001b[0m │\n",
              "├─────────────────────────────────┼────────────────────────┼───────────────┤\n",
              "│ time_distributed                │ (\u001b[38;5;45mNone\u001b[0m, \u001b[38;5;34m75\u001b[0m, \u001b[38;5;34m6375\u001b[0m)       │             \u001b[38;5;34m0\u001b[0m │\n",
              "│ (\u001b[38;5;33mTimeDistributed\u001b[0m)               │                        │               │\n",
              "├─────────────────────────────────┼────────────────────────┼───────────────┤\n",
              "│ bidirectional (\u001b[38;5;33mBidirectional\u001b[0m)   │ (\u001b[38;5;45mNone\u001b[0m, \u001b[38;5;34m75\u001b[0m, \u001b[38;5;34m256\u001b[0m)        │     \u001b[38;5;34m6,660,096\u001b[0m │\n",
              "├─────────────────────────────────┼────────────────────────┼───────────────┤\n",
              "│ dense (\u001b[38;5;33mDense\u001b[0m)                   │ (\u001b[38;5;45mNone\u001b[0m, \u001b[38;5;34m75\u001b[0m, \u001b[38;5;34m41\u001b[0m)         │        \u001b[38;5;34m10,537\u001b[0m │\n",
              "└─────────────────────────────────┴────────────────────────┴───────────────┘\n"
            ]
          },
          "metadata": {},
          "output_type": "display_data"
        },
        {
          "data": {
            "text/html": [
              "<pre style=\"white-space:pre;overflow-x:auto;line-height:normal;font-family:Menlo,'DejaVu Sans Mono',consolas,'Courier New',monospace\"><span style=\"font-weight: bold\"> Total params: </span><span style=\"color: #00af00; text-decoration-color: #00af00\">8,077,684</span> (30.81 MB)\n",
              "</pre>\n"
            ],
            "text/plain": [
              "\u001b[1m Total params: \u001b[0m\u001b[38;5;34m8,077,684\u001b[0m (30.81 MB)\n"
            ]
          },
          "metadata": {},
          "output_type": "display_data"
        },
        {
          "data": {
            "text/html": [
              "<pre style=\"white-space:pre;overflow-x:auto;line-height:normal;font-family:Menlo,'DejaVu Sans Mono',consolas,'Courier New',monospace\"><span style=\"font-weight: bold\"> Trainable params: </span><span style=\"color: #00af00; text-decoration-color: #00af00\">8,077,684</span> (30.81 MB)\n",
              "</pre>\n"
            ],
            "text/plain": [
              "\u001b[1m Trainable params: \u001b[0m\u001b[38;5;34m8,077,684\u001b[0m (30.81 MB)\n"
            ]
          },
          "metadata": {},
          "output_type": "display_data"
        },
        {
          "data": {
            "text/html": [
              "<pre style=\"white-space:pre;overflow-x:auto;line-height:normal;font-family:Menlo,'DejaVu Sans Mono',consolas,'Courier New',monospace\"><span style=\"font-weight: bold\"> Non-trainable params: </span><span style=\"color: #00af00; text-decoration-color: #00af00\">0</span> (0.00 B)\n",
              "</pre>\n"
            ],
            "text/plain": [
              "\u001b[1m Non-trainable params: \u001b[0m\u001b[38;5;34m0\u001b[0m (0.00 B)\n"
            ]
          },
          "metadata": {},
          "output_type": "display_data"
        }
      ],
      "source": [
        "model.summary()"
      ]
    },
    {
      "cell_type": "code",
      "execution_count": 38,
      "id": "f4b4798c-a65a-4c47-9e2a-3b09dc98d320",
      "metadata": {
        "colab": {
          "base_uri": "https://localhost:8080/"
        },
        "id": "f4b4798c-a65a-4c47-9e2a-3b09dc98d320",
        "outputId": "2a2066ab-f352-4b02-c64f-d0e6d139d7cf"
      },
      "outputs": [
        {
          "data": {
            "text/plain": [
              "6375"
            ]
          },
          "execution_count": 38,
          "metadata": {},
          "output_type": "execute_result"
        }
      ],
      "source": [
        "5*17*75"
      ]
    },
    {
      "cell_type": "code",
      "execution_count": 39,
      "id": "e5c2eae0-c359-41a4-97a0-75c44dccb7d1",
      "metadata": {
        "colab": {
          "base_uri": "https://localhost:8080/"
        },
        "id": "e5c2eae0-c359-41a4-97a0-75c44dccb7d1",
        "outputId": "02f5688b-3290-4eef-b0f9-bd61d8b5031b",
        "tags": []
      },
      "outputs": [
        {
          "name": "stdout",
          "output_type": "stream",
          "text": [
            "\u001b[1m1/1\u001b[0m \u001b[32m━━━━━━━━━━━━━━━━━━━━\u001b[0m\u001b[37m\u001b[0m \u001b[1m2s\u001b[0m 2s/step\n"
          ]
        }
      ],
      "source": [
        "yhat = model.predict(val[0])"
      ]
    },
    {
      "cell_type": "code",
      "execution_count": 40,
      "id": "ffdc7319-0d69-4f7e-a6d4-ce72deb81c0b",
      "metadata": {
        "colab": {
          "base_uri": "https://localhost:8080/"
        },
        "id": "ffdc7319-0d69-4f7e-a6d4-ce72deb81c0b",
        "outputId": "bf6148fc-b7fa-4914-860a-bed361d0be87"
      },
      "outputs": [
        {
          "data": {
            "text/plain": [
              "<tf.Tensor: shape=(), dtype=string, numpy=b'ddddddddddddddddddddddddddddddddddddddddddddddddddddddddddddddddddddddddddd'>"
            ]
          },
          "execution_count": 40,
          "metadata": {},
          "output_type": "execute_result"
        }
      ],
      "source": [
        "tf.strings.reduce_join([num_to_char(x) for x in tf.argmax(yhat[0],axis=1)])"
      ]
    },
    {
      "cell_type": "code",
      "execution_count": 41,
      "id": "6ed47531-8317-4255-9a12-b757642258e6",
      "metadata": {
        "colab": {
          "base_uri": "https://localhost:8080/"
        },
        "id": "6ed47531-8317-4255-9a12-b757642258e6",
        "outputId": "5b755432-4136-4834-fd69-78aace01b57b",
        "tags": []
      },
      "outputs": [
        {
          "data": {
            "text/plain": [
              "<tf.Tensor: shape=(), dtype=string, numpy=b'ddddddddddddddddddddddddddddddddddddddddddddddddddddddddddddddddddddddddddd'>"
            ]
          },
          "execution_count": 41,
          "metadata": {},
          "output_type": "execute_result"
        }
      ],
      "source": [
        "tf.strings.reduce_join([num_to_char(tf.argmax(x)) for x in yhat[0]])"
      ]
    },
    {
      "cell_type": "code",
      "execution_count": 42,
      "id": "7c37b9b9-5298-4038-9c33-5031d1b457f0",
      "metadata": {
        "colab": {
          "base_uri": "https://localhost:8080/"
        },
        "id": "7c37b9b9-5298-4038-9c33-5031d1b457f0",
        "outputId": "fcdf9c94-35db-4aa0-fcf7-3029f32eac97",
        "tags": []
      },
      "outputs": [
        {
          "data": {
            "text/plain": [
              "(None, 75, 46, 140, 1)"
            ]
          },
          "execution_count": 42,
          "metadata": {},
          "output_type": "execute_result"
        }
      ],
      "source": [
        "model.input_shape"
      ]
    },
    {
      "cell_type": "code",
      "execution_count": 43,
      "id": "98b316a4-5322-4782-8e36-4b3c1a696d85",
      "metadata": {
        "colab": {
          "base_uri": "https://localhost:8080/"
        },
        "id": "98b316a4-5322-4782-8e36-4b3c1a696d85",
        "outputId": "5f9ebad7-b4cc-4ac8-c5e6-f5471120f50f",
        "tags": []
      },
      "outputs": [
        {
          "data": {
            "text/plain": [
              "(None, 75, 41)"
            ]
          },
          "execution_count": 43,
          "metadata": {},
          "output_type": "execute_result"
        }
      ],
      "source": [
        "model.output_shape"
      ]
    },
    {
      "cell_type": "markdown",
      "id": "2ec02176-5c26-46c3-aff7-8352e6563c7d",
      "metadata": {
        "id": "2ec02176-5c26-46c3-aff7-8352e6563c7d",
        "tags": []
      },
      "source": [
        "# 4. Setup Training Options and Train"
      ]
    },
    {
      "cell_type": "code",
      "execution_count": 44,
      "id": "ab015fd0-7fb4-4d5d-9fa2-30a05dbd515a",
      "metadata": {
        "id": "ab015fd0-7fb4-4d5d-9fa2-30a05dbd515a",
        "tags": []
      },
      "outputs": [],
      "source": [
        "def scheduler(epoch, lr):\n",
        "    if epoch < 30:\n",
        "        return lr\n",
        "    else:\n",
        "        return lr * tf.math.exp(-0.1)"
      ]
    },
    {
      "cell_type": "code",
      "execution_count": 45,
      "id": "c564d5c9-db54-4e88-b311-9aeab7fb3e69",
      "metadata": {
        "id": "c564d5c9-db54-4e88-b311-9aeab7fb3e69",
        "tags": []
      },
      "outputs": [],
      "source": [
        "def CTCLoss(y_true, y_pred):\n",
        "    batch_len = tf.cast(tf.shape(y_true)[0], dtype=\"int64\")\n",
        "    input_length = tf.cast(tf.shape(y_pred)[1], dtype=\"int64\")\n",
        "    label_length = tf.cast(tf.shape(y_true)[1], dtype=\"int64\")\n",
        "\n",
        "    input_length = input_length * tf.ones(shape=(batch_len, 1), dtype=\"int64\")\n",
        "    label_length = label_length * tf.ones(shape=(batch_len, 1), dtype=\"int64\")\n",
        "\n",
        "    # loss = tf.keras.backend.ctc_batch_cost(y_true, y_pred, input_length, label_length)\n",
        "    loss = keras.backend.ctc_batch_cost(y_true, y_pred, input_length, label_length)\n",
        "    return loss"
      ]
    },
    {
      "cell_type": "code",
      "execution_count": 46,
      "id": "a26dc3fc-a19c-4378-bd8c-e2b597a1d15c",
      "metadata": {
        "id": "a26dc3fc-a19c-4378-bd8c-e2b597a1d15c",
        "tags": []
      },
      "outputs": [],
      "source": [
        "class ProduceExample(keras.callbacks.Callback):\n",
        "    def __init__(self, dataset) -> None:\n",
        "        self.dataset = dataset.as_numpy_iterator()\n",
        "\n",
        "    def on_epoch_end(self, epoch, logs=None) -> None:\n",
        "        data = self.dataset.next()\n",
        "        yhat = self.model.predict(data[0])\n",
        "        decoded = keras.backend.ctc_decode(yhat, [75,75], greedy=False)[0][0].numpy()\n",
        "        for x in range(len(yhat)):\n",
        "            print('Original:', tf.strings.reduce_join(num_to_char(data[1][x])).numpy().decode('utf-8'))\n",
        "            print('Prediction:', tf.strings.reduce_join(num_to_char(decoded[x])).numpy().decode('utf-8'))\n",
        "            print('~'*100)\n",
        "\n",
        "# class ProduceExample(tf.keras.callbacks.Callback):\n",
        "#     def __init__(self, dataset) -> None:\n",
        "#         self.dataset = dataset.as_numpy_iterator()\n",
        "\n",
        "#     def on_epoch_end(self, epoch, logs=None) -> None:\n",
        "#         data = self.dataset.next()\n",
        "#         yhat = self.model.predict(data[0])\n",
        "#         decoded = tf.keras.backend.ctc_decode(yhat, [75,75], greedy=False)[0][0].numpy()\n",
        "#         for x in range(len(yhat)):\n",
        "#             print('Original:', tf.strings.reduce_join(num_to_char(data[1][x])).numpy().decode('utf-8'))\n",
        "#             print('Prediction:', tf.strings.reduce_join(num_to_char(decoded[x])).numpy().decode('utf-8'))\n",
        "#             print('~'*100)"
      ]
    },
    {
      "cell_type": "code",
      "execution_count": 47,
      "id": "04be90d8-2482-46f9-b513-d5f4f8001c7e",
      "metadata": {
        "id": "04be90d8-2482-46f9-b513-d5f4f8001c7e",
        "tags": []
      },
      "outputs": [],
      "source": [
        "model.compile(optimizer=Adam(learning_rate=0.0001), loss=CTCLoss)"
      ]
    },
    {
      "cell_type": "code",
      "execution_count": 48,
      "id": "eab49367-3f1e-4464-ae76-dbd07549d97e",
      "metadata": {
        "id": "eab49367-3f1e-4464-ae76-dbd07549d97e",
        "tags": []
      },
      "outputs": [],
      "source": [
        "# checkpoint_callback = ModelCheckpoint(os.path.join('models','checkpoint'), monitor='loss', save_weights_only=True)\n",
        "\n",
        "\n",
        "# Adjust the file path to end with '.weights.h5'\n",
        "checkpoint_path = os.path.join('models', 'checkpoint.weights.h5')\n",
        "\n",
        "# Create the ModelCheckpoint callback\n",
        "checkpoint_callback = ModelCheckpoint(\n",
        "    filepath=checkpoint_path,\n",
        "    monitor='loss',\n",
        "    save_weights_only=True\n",
        ")\n"
      ]
    },
    {
      "cell_type": "code",
      "execution_count": 49,
      "id": "e085a632-d464-46ef-8777-959cad4adb2c",
      "metadata": {
        "id": "e085a632-d464-46ef-8777-959cad4adb2c",
        "tags": []
      },
      "outputs": [],
      "source": [
        "schedule_callback = LearningRateScheduler(scheduler)"
      ]
    },
    {
      "cell_type": "code",
      "execution_count": 50,
      "id": "48eca991-90ab-4592-8a79-b50e9ca015b6",
      "metadata": {
        "id": "48eca991-90ab-4592-8a79-b50e9ca015b6",
        "tags": []
      },
      "outputs": [],
      "source": [
        "example_callback = ProduceExample(test)"
      ]
    },
    {
      "cell_type": "code",
      "execution_count": 52,
      "id": "8ffba483-aa61-4bbe-a15f-a73e1ddf097c",
      "metadata": {
        "colab": {
          "base_uri": "https://localhost:8080/"
        },
        "id": "8ffba483-aa61-4bbe-a15f-a73e1ddf097c",
        "outputId": "5ac8771e-cd3b-4d4d-eaf5-15add3c1e8ae",
        "tags": []
      },
      "outputs": [
        {
          "name": "stdout",
          "output_type": "stream",
          "text": [
            "Epoch 1/100\n"
          ]
        },
        {
          "ename": "InvalidArgumentError",
          "evalue": "Graph execution error:\n\nDetected at node sequential_1/time_distributed_1/Reshape_43 defined at (most recent call last):\n  File \"<frozen runpy>\", line 198, in _run_module_as_main\n\n  File \"<frozen runpy>\", line 88, in _run_code\n\n  File \"c:\\Users\\lhdto\\AppData\\Local\\Programs\\Python\\Python312\\Lib\\site-packages\\ipykernel_launcher.py\", line 18, in <module>\n\n  File \"c:\\Users\\lhdto\\AppData\\Local\\Programs\\Python\\Python312\\Lib\\site-packages\\traitlets\\config\\application.py\", line 1075, in launch_instance\n\n  File \"c:\\Users\\lhdto\\AppData\\Local\\Programs\\Python\\Python312\\Lib\\site-packages\\ipykernel\\kernelapp.py\", line 739, in start\n\n  File \"c:\\Users\\lhdto\\AppData\\Local\\Programs\\Python\\Python312\\Lib\\site-packages\\tornado\\platform\\asyncio.py\", line 205, in start\n\n  File \"c:\\Users\\lhdto\\AppData\\Local\\Programs\\Python\\Python312\\Lib\\asyncio\\base_events.py\", line 641, in run_forever\n\n  File \"c:\\Users\\lhdto\\AppData\\Local\\Programs\\Python\\Python312\\Lib\\asyncio\\base_events.py\", line 1987, in _run_once\n\n  File \"c:\\Users\\lhdto\\AppData\\Local\\Programs\\Python\\Python312\\Lib\\asyncio\\events.py\", line 88, in _run\n\n  File \"c:\\Users\\lhdto\\AppData\\Local\\Programs\\Python\\Python312\\Lib\\site-packages\\ipykernel\\kernelbase.py\", line 545, in dispatch_queue\n\n  File \"c:\\Users\\lhdto\\AppData\\Local\\Programs\\Python\\Python312\\Lib\\site-packages\\ipykernel\\kernelbase.py\", line 534, in process_one\n\n  File \"c:\\Users\\lhdto\\AppData\\Local\\Programs\\Python\\Python312\\Lib\\site-packages\\ipykernel\\kernelbase.py\", line 437, in dispatch_shell\n\n  File \"c:\\Users\\lhdto\\AppData\\Local\\Programs\\Python\\Python312\\Lib\\site-packages\\ipykernel\\ipkernel.py\", line 362, in execute_request\n\n  File \"c:\\Users\\lhdto\\AppData\\Local\\Programs\\Python\\Python312\\Lib\\site-packages\\ipykernel\\kernelbase.py\", line 778, in execute_request\n\n  File \"c:\\Users\\lhdto\\AppData\\Local\\Programs\\Python\\Python312\\Lib\\site-packages\\ipykernel\\ipkernel.py\", line 449, in do_execute\n\n  File \"c:\\Users\\lhdto\\AppData\\Local\\Programs\\Python\\Python312\\Lib\\site-packages\\ipykernel\\zmqshell.py\", line 549, in run_cell\n\n  File \"c:\\Users\\lhdto\\AppData\\Local\\Programs\\Python\\Python312\\Lib\\site-packages\\IPython\\core\\interactiveshell.py\", line 3075, in run_cell\n\n  File \"c:\\Users\\lhdto\\AppData\\Local\\Programs\\Python\\Python312\\Lib\\site-packages\\IPython\\core\\interactiveshell.py\", line 3130, in _run_cell\n\n  File \"c:\\Users\\lhdto\\AppData\\Local\\Programs\\Python\\Python312\\Lib\\site-packages\\IPython\\core\\async_helpers.py\", line 129, in _pseudo_sync_runner\n\n  File \"c:\\Users\\lhdto\\AppData\\Local\\Programs\\Python\\Python312\\Lib\\site-packages\\IPython\\core\\interactiveshell.py\", line 3334, in run_cell_async\n\n  File \"c:\\Users\\lhdto\\AppData\\Local\\Programs\\Python\\Python312\\Lib\\site-packages\\IPython\\core\\interactiveshell.py\", line 3517, in run_ast_nodes\n\n  File \"c:\\Users\\lhdto\\AppData\\Local\\Programs\\Python\\Python312\\Lib\\site-packages\\IPython\\core\\interactiveshell.py\", line 3577, in run_code\n\n  File \"C:\\Users\\lhdto\\AppData\\Local\\Temp\\ipykernel_17328\\3536403359.py\", line 1, in <module>\n\n  File \"c:\\Users\\lhdto\\AppData\\Local\\Programs\\Python\\Python312\\Lib\\site-packages\\keras\\src\\utils\\traceback_utils.py\", line 117, in error_handler\n\n  File \"c:\\Users\\lhdto\\AppData\\Local\\Programs\\Python\\Python312\\Lib\\site-packages\\keras\\src\\backend\\tensorflow\\trainer.py\", line 329, in fit\n\n  File \"c:\\Users\\lhdto\\AppData\\Local\\Programs\\Python\\Python312\\Lib\\site-packages\\keras\\src\\backend\\tensorflow\\trainer.py\", line 122, in one_step_on_iterator\n\n  File \"c:\\Users\\lhdto\\AppData\\Local\\Programs\\Python\\Python312\\Lib\\site-packages\\keras\\src\\backend\\tensorflow\\trainer.py\", line 110, in one_step_on_data\n\n  File \"c:\\Users\\lhdto\\AppData\\Local\\Programs\\Python\\Python312\\Lib\\site-packages\\keras\\src\\backend\\tensorflow\\trainer.py\", line 57, in train_step\n\n  File \"c:\\Users\\lhdto\\AppData\\Local\\Programs\\Python\\Python312\\Lib\\site-packages\\keras\\src\\utils\\traceback_utils.py\", line 117, in error_handler\n\n  File \"c:\\Users\\lhdto\\AppData\\Local\\Programs\\Python\\Python312\\Lib\\site-packages\\keras\\src\\layers\\layer.py\", line 825, in __call__\n\n  File \"c:\\Users\\lhdto\\AppData\\Local\\Programs\\Python\\Python312\\Lib\\site-packages\\keras\\src\\utils\\traceback_utils.py\", line 117, in error_handler\n\n  File \"c:\\Users\\lhdto\\AppData\\Local\\Programs\\Python\\Python312\\Lib\\site-packages\\keras\\src\\ops\\operation.py\", line 48, in __call__\n\n  File \"c:\\Users\\lhdto\\AppData\\Local\\Programs\\Python\\Python312\\Lib\\site-packages\\keras\\src\\utils\\traceback_utils.py\", line 156, in error_handler\n\n  File \"c:\\Users\\lhdto\\AppData\\Local\\Programs\\Python\\Python312\\Lib\\site-packages\\keras\\src\\models\\sequential.py\", line 202, in call\n\n  File \"c:\\Users\\lhdto\\AppData\\Local\\Programs\\Python\\Python312\\Lib\\site-packages\\keras\\src\\models\\functional.py\", line 195, in call\n\n  File \"c:\\Users\\lhdto\\AppData\\Local\\Programs\\Python\\Python312\\Lib\\site-packages\\keras\\src\\ops\\function.py\", line 151, in _run_through_graph\n\n  File \"c:\\Users\\lhdto\\AppData\\Local\\Programs\\Python\\Python312\\Lib\\site-packages\\keras\\src\\models\\functional.py\", line 579, in call\n\n  File \"c:\\Users\\lhdto\\AppData\\Local\\Programs\\Python\\Python312\\Lib\\site-packages\\keras\\src\\utils\\traceback_utils.py\", line 117, in error_handler\n\n  File \"c:\\Users\\lhdto\\AppData\\Local\\Programs\\Python\\Python312\\Lib\\site-packages\\keras\\src\\layers\\layer.py\", line 825, in __call__\n\n  File \"c:\\Users\\lhdto\\AppData\\Local\\Programs\\Python\\Python312\\Lib\\site-packages\\keras\\src\\utils\\traceback_utils.py\", line 117, in error_handler\n\n  File \"c:\\Users\\lhdto\\AppData\\Local\\Programs\\Python\\Python312\\Lib\\site-packages\\keras\\src\\ops\\operation.py\", line 48, in __call__\n\n  File \"c:\\Users\\lhdto\\AppData\\Local\\Programs\\Python\\Python312\\Lib\\site-packages\\keras\\src\\utils\\traceback_utils.py\", line 156, in error_handler\n\n  File \"c:\\Users\\lhdto\\AppData\\Local\\Programs\\Python\\Python312\\Lib\\site-packages\\keras\\src\\layers\\rnn\\time_distributed.py\", line 108, in call\n\n  File \"c:\\Users\\lhdto\\AppData\\Local\\Programs\\Python\\Python312\\Lib\\site-packages\\keras\\src\\layers\\rnn\\time_distributed.py\", line 102, in step_function\n\n  File \"c:\\Users\\lhdto\\AppData\\Local\\Programs\\Python\\Python312\\Lib\\site-packages\\keras\\src\\layers\\reshaping\\flatten.py\", line 54, in call\n\n  File \"c:\\Users\\lhdto\\AppData\\Local\\Programs\\Python\\Python312\\Lib\\site-packages\\keras\\src\\ops\\numpy.py\", line 4522, in reshape\n\n  File \"c:\\Users\\lhdto\\AppData\\Local\\Programs\\Python\\Python312\\Lib\\site-packages\\keras\\src\\backend\\tensorflow\\numpy.py\", line 1618, in reshape\n\nOnly one input size may be -1, not both 0 and 1\n\t [[{{node sequential_1/time_distributed_1/Reshape_43}}]] [Op:__inference_one_step_on_iterator_27512]",
          "output_type": "error",
          "traceback": [
            "\u001b[1;31m---------------------------------------------------------------------------\u001b[0m",
            "\u001b[1;31mInvalidArgumentError\u001b[0m                      Traceback (most recent call last)",
            "Cell \u001b[1;32mIn[52], line 1\u001b[0m\n\u001b[1;32m----> 1\u001b[0m \u001b[43mmodel\u001b[49m\u001b[38;5;241;43m.\u001b[39;49m\u001b[43mfit\u001b[49m\u001b[43m(\u001b[49m\u001b[43mtrain\u001b[49m\u001b[43m,\u001b[49m\u001b[43m \u001b[49m\u001b[43mvalidation_data\u001b[49m\u001b[38;5;241;43m=\u001b[39;49m\u001b[43mtest\u001b[49m\u001b[43m,\u001b[49m\u001b[43m \u001b[49m\u001b[43mepochs\u001b[49m\u001b[38;5;241;43m=\u001b[39;49m\u001b[38;5;241;43m100\u001b[39;49m\u001b[43m,\u001b[49m\u001b[43m \u001b[49m\u001b[43mcallbacks\u001b[49m\u001b[38;5;241;43m=\u001b[39;49m\u001b[43m[\u001b[49m\u001b[43mcheckpoint_callback\u001b[49m\u001b[43m,\u001b[49m\u001b[43m \u001b[49m\u001b[43mschedule_callback\u001b[49m\u001b[43m,\u001b[49m\u001b[43m \u001b[49m\u001b[43mexample_callback\u001b[49m\u001b[43m]\u001b[49m\u001b[43m)\u001b[49m\n",
            "File \u001b[1;32mc:\\Users\\lhdto\\AppData\\Local\\Programs\\Python\\Python312\\Lib\\site-packages\\keras\\src\\utils\\traceback_utils.py:122\u001b[0m, in \u001b[0;36mfilter_traceback.<locals>.error_handler\u001b[1;34m(*args, **kwargs)\u001b[0m\n\u001b[0;32m    119\u001b[0m     filtered_tb \u001b[38;5;241m=\u001b[39m _process_traceback_frames(e\u001b[38;5;241m.\u001b[39m__traceback__)\n\u001b[0;32m    120\u001b[0m     \u001b[38;5;66;03m# To get the full stack trace, call:\u001b[39;00m\n\u001b[0;32m    121\u001b[0m     \u001b[38;5;66;03m# `keras.config.disable_traceback_filtering()`\u001b[39;00m\n\u001b[1;32m--> 122\u001b[0m     \u001b[38;5;28;01mraise\u001b[39;00m e\u001b[38;5;241m.\u001b[39mwith_traceback(filtered_tb) \u001b[38;5;28;01mfrom\u001b[39;00m \u001b[38;5;28;01mNone\u001b[39;00m\n\u001b[0;32m    123\u001b[0m \u001b[38;5;28;01mfinally\u001b[39;00m:\n\u001b[0;32m    124\u001b[0m     \u001b[38;5;28;01mdel\u001b[39;00m filtered_tb\n",
            "File \u001b[1;32mc:\\Users\\lhdto\\AppData\\Local\\Programs\\Python\\Python312\\Lib\\site-packages\\tensorflow\\python\\eager\\execute.py:53\u001b[0m, in \u001b[0;36mquick_execute\u001b[1;34m(op_name, num_outputs, inputs, attrs, ctx, name)\u001b[0m\n\u001b[0;32m     51\u001b[0m \u001b[38;5;28;01mtry\u001b[39;00m:\n\u001b[0;32m     52\u001b[0m   ctx\u001b[38;5;241m.\u001b[39mensure_initialized()\n\u001b[1;32m---> 53\u001b[0m   tensors \u001b[38;5;241m=\u001b[39m pywrap_tfe\u001b[38;5;241m.\u001b[39mTFE_Py_Execute(ctx\u001b[38;5;241m.\u001b[39m_handle, device_name, op_name,\n\u001b[0;32m     54\u001b[0m                                       inputs, attrs, num_outputs)\n\u001b[0;32m     55\u001b[0m \u001b[38;5;28;01mexcept\u001b[39;00m core\u001b[38;5;241m.\u001b[39m_NotOkStatusException \u001b[38;5;28;01mas\u001b[39;00m e:\n\u001b[0;32m     56\u001b[0m   \u001b[38;5;28;01mif\u001b[39;00m name \u001b[38;5;129;01mis\u001b[39;00m \u001b[38;5;129;01mnot\u001b[39;00m \u001b[38;5;28;01mNone\u001b[39;00m:\n",
            "\u001b[1;31mInvalidArgumentError\u001b[0m: Graph execution error:\n\nDetected at node sequential_1/time_distributed_1/Reshape_43 defined at (most recent call last):\n  File \"<frozen runpy>\", line 198, in _run_module_as_main\n\n  File \"<frozen runpy>\", line 88, in _run_code\n\n  File \"c:\\Users\\lhdto\\AppData\\Local\\Programs\\Python\\Python312\\Lib\\site-packages\\ipykernel_launcher.py\", line 18, in <module>\n\n  File \"c:\\Users\\lhdto\\AppData\\Local\\Programs\\Python\\Python312\\Lib\\site-packages\\traitlets\\config\\application.py\", line 1075, in launch_instance\n\n  File \"c:\\Users\\lhdto\\AppData\\Local\\Programs\\Python\\Python312\\Lib\\site-packages\\ipykernel\\kernelapp.py\", line 739, in start\n\n  File \"c:\\Users\\lhdto\\AppData\\Local\\Programs\\Python\\Python312\\Lib\\site-packages\\tornado\\platform\\asyncio.py\", line 205, in start\n\n  File \"c:\\Users\\lhdto\\AppData\\Local\\Programs\\Python\\Python312\\Lib\\asyncio\\base_events.py\", line 641, in run_forever\n\n  File \"c:\\Users\\lhdto\\AppData\\Local\\Programs\\Python\\Python312\\Lib\\asyncio\\base_events.py\", line 1987, in _run_once\n\n  File \"c:\\Users\\lhdto\\AppData\\Local\\Programs\\Python\\Python312\\Lib\\asyncio\\events.py\", line 88, in _run\n\n  File \"c:\\Users\\lhdto\\AppData\\Local\\Programs\\Python\\Python312\\Lib\\site-packages\\ipykernel\\kernelbase.py\", line 545, in dispatch_queue\n\n  File \"c:\\Users\\lhdto\\AppData\\Local\\Programs\\Python\\Python312\\Lib\\site-packages\\ipykernel\\kernelbase.py\", line 534, in process_one\n\n  File \"c:\\Users\\lhdto\\AppData\\Local\\Programs\\Python\\Python312\\Lib\\site-packages\\ipykernel\\kernelbase.py\", line 437, in dispatch_shell\n\n  File \"c:\\Users\\lhdto\\AppData\\Local\\Programs\\Python\\Python312\\Lib\\site-packages\\ipykernel\\ipkernel.py\", line 362, in execute_request\n\n  File \"c:\\Users\\lhdto\\AppData\\Local\\Programs\\Python\\Python312\\Lib\\site-packages\\ipykernel\\kernelbase.py\", line 778, in execute_request\n\n  File \"c:\\Users\\lhdto\\AppData\\Local\\Programs\\Python\\Python312\\Lib\\site-packages\\ipykernel\\ipkernel.py\", line 449, in do_execute\n\n  File \"c:\\Users\\lhdto\\AppData\\Local\\Programs\\Python\\Python312\\Lib\\site-packages\\ipykernel\\zmqshell.py\", line 549, in run_cell\n\n  File \"c:\\Users\\lhdto\\AppData\\Local\\Programs\\Python\\Python312\\Lib\\site-packages\\IPython\\core\\interactiveshell.py\", line 3075, in run_cell\n\n  File \"c:\\Users\\lhdto\\AppData\\Local\\Programs\\Python\\Python312\\Lib\\site-packages\\IPython\\core\\interactiveshell.py\", line 3130, in _run_cell\n\n  File \"c:\\Users\\lhdto\\AppData\\Local\\Programs\\Python\\Python312\\Lib\\site-packages\\IPython\\core\\async_helpers.py\", line 129, in _pseudo_sync_runner\n\n  File \"c:\\Users\\lhdto\\AppData\\Local\\Programs\\Python\\Python312\\Lib\\site-packages\\IPython\\core\\interactiveshell.py\", line 3334, in run_cell_async\n\n  File \"c:\\Users\\lhdto\\AppData\\Local\\Programs\\Python\\Python312\\Lib\\site-packages\\IPython\\core\\interactiveshell.py\", line 3517, in run_ast_nodes\n\n  File \"c:\\Users\\lhdto\\AppData\\Local\\Programs\\Python\\Python312\\Lib\\site-packages\\IPython\\core\\interactiveshell.py\", line 3577, in run_code\n\n  File \"C:\\Users\\lhdto\\AppData\\Local\\Temp\\ipykernel_17328\\3536403359.py\", line 1, in <module>\n\n  File \"c:\\Users\\lhdto\\AppData\\Local\\Programs\\Python\\Python312\\Lib\\site-packages\\keras\\src\\utils\\traceback_utils.py\", line 117, in error_handler\n\n  File \"c:\\Users\\lhdto\\AppData\\Local\\Programs\\Python\\Python312\\Lib\\site-packages\\keras\\src\\backend\\tensorflow\\trainer.py\", line 329, in fit\n\n  File \"c:\\Users\\lhdto\\AppData\\Local\\Programs\\Python\\Python312\\Lib\\site-packages\\keras\\src\\backend\\tensorflow\\trainer.py\", line 122, in one_step_on_iterator\n\n  File \"c:\\Users\\lhdto\\AppData\\Local\\Programs\\Python\\Python312\\Lib\\site-packages\\keras\\src\\backend\\tensorflow\\trainer.py\", line 110, in one_step_on_data\n\n  File \"c:\\Users\\lhdto\\AppData\\Local\\Programs\\Python\\Python312\\Lib\\site-packages\\keras\\src\\backend\\tensorflow\\trainer.py\", line 57, in train_step\n\n  File \"c:\\Users\\lhdto\\AppData\\Local\\Programs\\Python\\Python312\\Lib\\site-packages\\keras\\src\\utils\\traceback_utils.py\", line 117, in error_handler\n\n  File \"c:\\Users\\lhdto\\AppData\\Local\\Programs\\Python\\Python312\\Lib\\site-packages\\keras\\src\\layers\\layer.py\", line 825, in __call__\n\n  File \"c:\\Users\\lhdto\\AppData\\Local\\Programs\\Python\\Python312\\Lib\\site-packages\\keras\\src\\utils\\traceback_utils.py\", line 117, in error_handler\n\n  File \"c:\\Users\\lhdto\\AppData\\Local\\Programs\\Python\\Python312\\Lib\\site-packages\\keras\\src\\ops\\operation.py\", line 48, in __call__\n\n  File \"c:\\Users\\lhdto\\AppData\\Local\\Programs\\Python\\Python312\\Lib\\site-packages\\keras\\src\\utils\\traceback_utils.py\", line 156, in error_handler\n\n  File \"c:\\Users\\lhdto\\AppData\\Local\\Programs\\Python\\Python312\\Lib\\site-packages\\keras\\src\\models\\sequential.py\", line 202, in call\n\n  File \"c:\\Users\\lhdto\\AppData\\Local\\Programs\\Python\\Python312\\Lib\\site-packages\\keras\\src\\models\\functional.py\", line 195, in call\n\n  File \"c:\\Users\\lhdto\\AppData\\Local\\Programs\\Python\\Python312\\Lib\\site-packages\\keras\\src\\ops\\function.py\", line 151, in _run_through_graph\n\n  File \"c:\\Users\\lhdto\\AppData\\Local\\Programs\\Python\\Python312\\Lib\\site-packages\\keras\\src\\models\\functional.py\", line 579, in call\n\n  File \"c:\\Users\\lhdto\\AppData\\Local\\Programs\\Python\\Python312\\Lib\\site-packages\\keras\\src\\utils\\traceback_utils.py\", line 117, in error_handler\n\n  File \"c:\\Users\\lhdto\\AppData\\Local\\Programs\\Python\\Python312\\Lib\\site-packages\\keras\\src\\layers\\layer.py\", line 825, in __call__\n\n  File \"c:\\Users\\lhdto\\AppData\\Local\\Programs\\Python\\Python312\\Lib\\site-packages\\keras\\src\\utils\\traceback_utils.py\", line 117, in error_handler\n\n  File \"c:\\Users\\lhdto\\AppData\\Local\\Programs\\Python\\Python312\\Lib\\site-packages\\keras\\src\\ops\\operation.py\", line 48, in __call__\n\n  File \"c:\\Users\\lhdto\\AppData\\Local\\Programs\\Python\\Python312\\Lib\\site-packages\\keras\\src\\utils\\traceback_utils.py\", line 156, in error_handler\n\n  File \"c:\\Users\\lhdto\\AppData\\Local\\Programs\\Python\\Python312\\Lib\\site-packages\\keras\\src\\layers\\rnn\\time_distributed.py\", line 108, in call\n\n  File \"c:\\Users\\lhdto\\AppData\\Local\\Programs\\Python\\Python312\\Lib\\site-packages\\keras\\src\\layers\\rnn\\time_distributed.py\", line 102, in step_function\n\n  File \"c:\\Users\\lhdto\\AppData\\Local\\Programs\\Python\\Python312\\Lib\\site-packages\\keras\\src\\layers\\reshaping\\flatten.py\", line 54, in call\n\n  File \"c:\\Users\\lhdto\\AppData\\Local\\Programs\\Python\\Python312\\Lib\\site-packages\\keras\\src\\ops\\numpy.py\", line 4522, in reshape\n\n  File \"c:\\Users\\lhdto\\AppData\\Local\\Programs\\Python\\Python312\\Lib\\site-packages\\keras\\src\\backend\\tensorflow\\numpy.py\", line 1618, in reshape\n\nOnly one input size may be -1, not both 0 and 1\n\t [[{{node sequential_1/time_distributed_1/Reshape_43}}]] [Op:__inference_one_step_on_iterator_27512]"
          ]
        }
      ],
      "source": [
        "model.fit(train, validation_data=test, epochs=100, callbacks=[checkpoint_callback, schedule_callback, example_callback])"
      ]
    },
    {
      "cell_type": "markdown",
      "id": "fa8ee94b-89f7-4733-8a0c-a86f86ff590a",
      "metadata": {
        "id": "fa8ee94b-89f7-4733-8a0c-a86f86ff590a",
        "tags": []
      },
      "source": [
        "# 5. Make a Prediction"
      ]
    },
    {
      "cell_type": "code",
      "execution_count": null,
      "id": "01fa7204-ce0e-49a8-8dbd-14fe5dfead40",
      "metadata": {
        "id": "01fa7204-ce0e-49a8-8dbd-14fe5dfead40",
        "tags": []
      },
      "outputs": [
        {
          "name": "stderr",
          "output_type": "stream",
          "text": [
            "Downloading...\n",
            "From (original): https://drive.google.com/uc?id=1vWscXs4Vt0a_1IH1-ct2TCgXAZT-N3_Y\n",
            "From (redirected): https://drive.google.com/uc?id=1vWscXs4Vt0a_1IH1-ct2TCgXAZT-N3_Y&confirm=t&uuid=28aca149-41af-49fd-b783-ca9b4b4cc840\n",
            "To: c:\\haidun.li\\NSCC\\LipNet\\checkpoints.zip\n",
            "100%|██████████| 94.5M/94.5M [00:05<00:00, 17.1MB/s]\n"
          ]
        },
        {
          "data": {
            "text/plain": [
              "['models\\\\checkpoint.index',\n",
              " 'models\\\\__MACOSX/._checkpoint.index',\n",
              " 'models\\\\checkpoint.data-00000-of-00001',\n",
              " 'models\\\\__MACOSX/._checkpoint.data-00000-of-00001',\n",
              " 'models\\\\checkpoint',\n",
              " 'models\\\\__MACOSX/._checkpoint']"
            ]
          },
          "execution_count": 54,
          "metadata": {},
          "output_type": "execute_result"
        }
      ],
      "source": [
        "# url = 'https://drive.google.com/uc?id=1vWscXs4Vt0a_1IH1-ct2TCgXAZT-N3_Y'\n",
        "# output = 'checkpoints.zip'\n",
        "# gdown.download(url, output, quiet=False)\n",
        "# gdown.extractall('checkpoints.zip', 'models')"
      ]
    },
    {
      "cell_type": "code",
      "execution_count": null,
      "id": "247f664d-3c87-4e96-946e-930dad0e1c2c",
      "metadata": {
        "id": "247f664d-3c87-4e96-946e-930dad0e1c2c",
        "tags": []
      },
      "outputs": [
        {
          "ename": "ValueError",
          "evalue": "File format not supported: filepath=./models/checkpoint. Keras 3 only supports V3 `.keras` and `.weights.h5` files, or legacy V1/V2 `.h5` files.",
          "output_type": "error",
          "traceback": [
            "\u001b[1;31m---------------------------------------------------------------------------\u001b[0m",
            "\u001b[1;31mValueError\u001b[0m                                Traceback (most recent call last)",
            "Cell \u001b[1;32mIn[57], line 1\u001b[0m\n\u001b[1;32m----> 1\u001b[0m \u001b[43mmodel\u001b[49m\u001b[38;5;241;43m.\u001b[39;49m\u001b[43mload_weights\u001b[49m\u001b[43m(\u001b[49m\u001b[38;5;124;43m'\u001b[39;49m\u001b[38;5;124;43m./models/checkpoint\u001b[39;49m\u001b[38;5;124;43m'\u001b[39;49m\u001b[43m)\u001b[49m\n",
            "File \u001b[1;32mc:\\Users\\lhdto\\AppData\\Local\\Programs\\Python\\Python312\\Lib\\site-packages\\keras\\src\\utils\\traceback_utils.py:122\u001b[0m, in \u001b[0;36mfilter_traceback.<locals>.error_handler\u001b[1;34m(*args, **kwargs)\u001b[0m\n\u001b[0;32m    119\u001b[0m     filtered_tb \u001b[38;5;241m=\u001b[39m _process_traceback_frames(e\u001b[38;5;241m.\u001b[39m__traceback__)\n\u001b[0;32m    120\u001b[0m     \u001b[38;5;66;03m# To get the full stack trace, call:\u001b[39;00m\n\u001b[0;32m    121\u001b[0m     \u001b[38;5;66;03m# `keras.config.disable_traceback_filtering()`\u001b[39;00m\n\u001b[1;32m--> 122\u001b[0m     \u001b[38;5;28;01mraise\u001b[39;00m e\u001b[38;5;241m.\u001b[39mwith_traceback(filtered_tb) \u001b[38;5;28;01mfrom\u001b[39;00m \u001b[38;5;28;01mNone\u001b[39;00m\n\u001b[0;32m    123\u001b[0m \u001b[38;5;28;01mfinally\u001b[39;00m:\n\u001b[0;32m    124\u001b[0m     \u001b[38;5;28;01mdel\u001b[39;00m filtered_tb\n",
            "File \u001b[1;32mc:\\Users\\lhdto\\AppData\\Local\\Programs\\Python\\Python312\\Lib\\site-packages\\keras\\src\\saving\\saving_api.py:260\u001b[0m, in \u001b[0;36mload_weights\u001b[1;34m(model, filepath, skip_mismatch, **kwargs)\u001b[0m\n\u001b[0;32m    258\u001b[0m             legacy_h5_format\u001b[38;5;241m.\u001b[39mload_weights_from_hdf5_group(f, model)\n\u001b[0;32m    259\u001b[0m \u001b[38;5;28;01melse\u001b[39;00m:\n\u001b[1;32m--> 260\u001b[0m     \u001b[38;5;28;01mraise\u001b[39;00m \u001b[38;5;167;01mValueError\u001b[39;00m(\n\u001b[0;32m    261\u001b[0m         \u001b[38;5;124mf\u001b[39m\u001b[38;5;124m\"\u001b[39m\u001b[38;5;124mFile format not supported: filepath=\u001b[39m\u001b[38;5;132;01m{\u001b[39;00mfilepath\u001b[38;5;132;01m}\u001b[39;00m\u001b[38;5;124m. \u001b[39m\u001b[38;5;124m\"\u001b[39m\n\u001b[0;32m    262\u001b[0m         \u001b[38;5;124m\"\u001b[39m\u001b[38;5;124mKeras 3 only supports V3 `.keras` and `.weights.h5` \u001b[39m\u001b[38;5;124m\"\u001b[39m\n\u001b[0;32m    263\u001b[0m         \u001b[38;5;124m\"\u001b[39m\u001b[38;5;124mfiles, or legacy V1/V2 `.h5` files.\u001b[39m\u001b[38;5;124m\"\u001b[39m\n\u001b[0;32m    264\u001b[0m     )\n",
            "\u001b[1;31mValueError\u001b[0m: File format not supported: filepath=./models/checkpoint. Keras 3 only supports V3 `.keras` and `.weights.h5` files, or legacy V1/V2 `.h5` files."
          ]
        }
      ],
      "source": [
        "model.load_weights('./models/checkpoint')"
      ]
    },
    {
      "cell_type": "code",
      "execution_count": null,
      "id": "7f8d689f-b7bb-443c-9b88-e40c1d800828",
      "metadata": {
        "id": "7f8d689f-b7bb-443c-9b88-e40c1d800828",
        "tags": []
      },
      "outputs": [],
      "source": [
        "test_data = test.as_numpy_iterator()"
      ]
    },
    {
      "cell_type": "code",
      "execution_count": null,
      "id": "38546dc2-bee9-4837-864b-8a884df40ad7",
      "metadata": {
        "id": "38546dc2-bee9-4837-864b-8a884df40ad7",
        "tags": []
      },
      "outputs": [],
      "source": [
        "sample = test_data.next()"
      ]
    },
    {
      "cell_type": "code",
      "execution_count": null,
      "id": "a43621f0-229d-4c0d-9554-9c3a3da9c61a",
      "metadata": {
        "id": "a43621f0-229d-4c0d-9554-9c3a3da9c61a",
        "tags": []
      },
      "outputs": [],
      "source": [
        "yhat = model.predict(sample[0])"
      ]
    },
    {
      "cell_type": "code",
      "execution_count": null,
      "id": "ea462999-f87e-4a7e-a057-5be7b6d8f7d5",
      "metadata": {
        "id": "ea462999-f87e-4a7e-a057-5be7b6d8f7d5",
        "tags": []
      },
      "outputs": [],
      "source": [
        "print('~'*100, 'REAL TEXT')\n",
        "[tf.strings.reduce_join([num_to_char(word) for word in sentence]) for sentence in sample[1]]"
      ]
    },
    {
      "cell_type": "code",
      "execution_count": null,
      "id": "82bd4c10-dd6e-411e-834b-2a3b43fd12c5",
      "metadata": {
        "id": "82bd4c10-dd6e-411e-834b-2a3b43fd12c5",
        "tags": []
      },
      "outputs": [],
      "source": [
        "# decoded = tf.keras.backend.ctc_decode(yhat, input_length=[75,75], greedy=True)[0][0].numpy()\n",
        "decoded = keras.backend.ctc_decode(yhat, input_length=[75,75], greedy=True)[0][0].numpy()"
      ]
    },
    {
      "cell_type": "code",
      "execution_count": null,
      "id": "5d68ac46-c90b-4eab-a709-f19aee569ff5",
      "metadata": {
        "id": "5d68ac46-c90b-4eab-a709-f19aee569ff5",
        "tags": []
      },
      "outputs": [],
      "source": [
        "print('~'*100, 'PREDICTIONS')\n",
        "[tf.strings.reduce_join([num_to_char(word) for word in sentence]) for sentence in decoded]"
      ]
    },
    {
      "cell_type": "markdown",
      "id": "64622f98-e99b-4fed-a2cc-f0da82eb5431",
      "metadata": {
        "id": "64622f98-e99b-4fed-a2cc-f0da82eb5431"
      },
      "source": [
        "# Test on a Video"
      ]
    },
    {
      "cell_type": "code",
      "execution_count": null,
      "id": "a8b0c4d0-2031-4331-b91d-d87b1ae6f6e2",
      "metadata": {
        "id": "a8b0c4d0-2031-4331-b91d-d87b1ae6f6e2"
      },
      "outputs": [],
      "source": [
        "sample = load_data(tf.convert_to_tensor('.\\\\data\\\\s1\\\\bras9a.mpg'))"
      ]
    },
    {
      "cell_type": "code",
      "execution_count": null,
      "id": "0cca60e4-47a9-4683-8a75-48f4684f723d",
      "metadata": {
        "id": "0cca60e4-47a9-4683-8a75-48f4684f723d"
      },
      "outputs": [],
      "source": [
        "print('~'*100, 'REAL TEXT')\n",
        "[tf.strings.reduce_join([num_to_char(word) for word in sentence]) for sentence in [sample[1]]]"
      ]
    },
    {
      "cell_type": "code",
      "execution_count": null,
      "id": "8cc5037c-1e32-435c-b0cc-01e1fb3b863c",
      "metadata": {
        "id": "8cc5037c-1e32-435c-b0cc-01e1fb3b863c"
      },
      "outputs": [],
      "source": [
        "yhat = model.predict(tf.expand_dims(sample[0], axis=0))"
      ]
    },
    {
      "cell_type": "code",
      "execution_count": null,
      "id": "22c4f77d-715d-409f-bc5e-3ebe48704e8f",
      "metadata": {
        "id": "22c4f77d-715d-409f-bc5e-3ebe48704e8f"
      },
      "outputs": [],
      "source": [
        "# decoded = tf.keras.backend.ctc_decode(yhat, input_length=[75], greedy=True)[0][0].numpy()\n",
        "decoded = keras.backend.ctc_decode(yhat, input_length=[75], greedy=True)[0][0].numpy()"
      ]
    },
    {
      "cell_type": "code",
      "execution_count": null,
      "id": "e4d12ecc-b634-499e-a4bc-db9f010835fb",
      "metadata": {
        "id": "e4d12ecc-b634-499e-a4bc-db9f010835fb"
      },
      "outputs": [],
      "source": [
        "print('~'*100, 'PREDICTIONS')\n",
        "[tf.strings.reduce_join([num_to_char(word) for word in sentence]) for sentence in decoded]"
      ]
    },
    {
      "cell_type": "code",
      "execution_count": null,
      "id": "551dfea2-de6b-4400-b71a-a17631529e3f",
      "metadata": {
        "id": "551dfea2-de6b-4400-b71a-a17631529e3f"
      },
      "outputs": [],
      "source": []
    },
    {
      "cell_type": "code",
      "execution_count": null,
      "id": "fa95863d-3832-47bf-8a77-ebaa38054ace",
      "metadata": {
        "id": "fa95863d-3832-47bf-8a77-ebaa38054ace"
      },
      "outputs": [],
      "source": []
    }
  ],
  "metadata": {
    "accelerator": "GPU",
    "colab": {
      "gpuType": "T4",
      "include_colab_link": true,
      "provenance": []
    },
    "kernelspec": {
      "display_name": "Python 3",
      "name": "python3"
    },
    "language_info": {
      "codemirror_mode": {
        "name": "ipython",
        "version": 3
      },
      "file_extension": ".py",
      "mimetype": "text/x-python",
      "name": "python",
      "nbconvert_exporter": "python",
      "pygments_lexer": "ipython3",
      "version": "3.12.3"
    }
  },
  "nbformat": 4,
  "nbformat_minor": 5
}
